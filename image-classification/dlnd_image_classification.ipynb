{
 "cells": [
  {
   "cell_type": "markdown",
   "metadata": {
    "collapsed": true,
    "deletable": true,
    "editable": true
   },
   "source": [
    "# Image Classification\n",
    "In this project, you'll classify images from the [CIFAR-10 dataset](https://www.cs.toronto.edu/~kriz/cifar.html).  The dataset consists of airplanes, dogs, cats, and other objects. You'll preprocess the images, then train a convolutional neural network on all the samples. The images need to be normalized and the labels need to be one-hot encoded.  You'll get to apply what you learned and build a convolutional, max pooling, dropout, and fully connected layers.  At the end, you'll get to see your neural network's predictions on the sample images.\n",
    "## Get the Data\n",
    "Run the following cell to download the [CIFAR-10 dataset for python](https://www.cs.toronto.edu/~kriz/cifar-10-python.tar.gz)."
   ]
  },
  {
   "cell_type": "code",
<<<<<<< HEAD
   "execution_count": 1,
   "metadata": {},
   "outputs": [
    {
     "ename": "ModuleNotFoundError",
     "evalue": "No module named 'tensorflow'",
     "output_type": "error",
     "traceback": [
      "\u001b[0;31m---------------------------------------------------------------------------\u001b[0m",
      "\u001b[0;31mModuleNotFoundError\u001b[0m                       Traceback (most recent call last)",
      "\u001b[0;32m<ipython-input-1-bd3c173770c4>\u001b[0m in \u001b[0;36m<module>\u001b[0;34m()\u001b[0m\n\u001b[1;32m      5\u001b[0m \u001b[0;32mfrom\u001b[0m \u001b[0mos\u001b[0m\u001b[0;34m.\u001b[0m\u001b[0mpath\u001b[0m \u001b[0;32mimport\u001b[0m \u001b[0misfile\u001b[0m\u001b[0;34m,\u001b[0m \u001b[0misdir\u001b[0m\u001b[0;34m\u001b[0m\u001b[0m\n\u001b[1;32m      6\u001b[0m \u001b[0;32mfrom\u001b[0m \u001b[0mtqdm\u001b[0m \u001b[0;32mimport\u001b[0m \u001b[0mtqdm\u001b[0m\u001b[0;34m\u001b[0m\u001b[0m\n\u001b[0;32m----> 7\u001b[0;31m \u001b[0;32mimport\u001b[0m \u001b[0mproblem_unittests\u001b[0m \u001b[0;32mas\u001b[0m \u001b[0mtests\u001b[0m\u001b[0;34m\u001b[0m\u001b[0m\n\u001b[0m\u001b[1;32m      8\u001b[0m \u001b[0;32mimport\u001b[0m \u001b[0mtarfile\u001b[0m\u001b[0;34m\u001b[0m\u001b[0m\n\u001b[1;32m      9\u001b[0m \u001b[0;34m\u001b[0m\u001b[0m\n",
      "\u001b[0;32m~/GitHub/dlnf/deep-learning/image-classification/problem_unittests.py\u001b[0m in \u001b[0;36m<module>\u001b[0;34m()\u001b[0m\n\u001b[1;32m      1\u001b[0m \u001b[0;32mimport\u001b[0m \u001b[0mos\u001b[0m\u001b[0;34m\u001b[0m\u001b[0m\n\u001b[1;32m      2\u001b[0m \u001b[0;32mimport\u001b[0m \u001b[0mnumpy\u001b[0m \u001b[0;32mas\u001b[0m \u001b[0mnp\u001b[0m\u001b[0;34m\u001b[0m\u001b[0m\n\u001b[0;32m----> 3\u001b[0;31m \u001b[0;32mimport\u001b[0m \u001b[0mtensorflow\u001b[0m \u001b[0;32mas\u001b[0m \u001b[0mtf\u001b[0m\u001b[0;34m\u001b[0m\u001b[0m\n\u001b[0m\u001b[1;32m      4\u001b[0m \u001b[0;32mimport\u001b[0m \u001b[0mrandom\u001b[0m\u001b[0;34m\u001b[0m\u001b[0m\n\u001b[1;32m      5\u001b[0m \u001b[0;32mfrom\u001b[0m \u001b[0munittest\u001b[0m\u001b[0;34m.\u001b[0m\u001b[0mmock\u001b[0m \u001b[0;32mimport\u001b[0m \u001b[0mMagicMock\u001b[0m\u001b[0;34m\u001b[0m\u001b[0m\n",
      "\u001b[0;31mModuleNotFoundError\u001b[0m: No module named 'tensorflow'"
=======
   "execution_count": 20,
   "metadata": {
    "collapsed": false,
    "deletable": true,
    "editable": true
   },
   "outputs": [
    {
     "name": "stdout",
     "output_type": "stream",
     "text": [
      "All files found!\n"
>>>>>>> 26b0fa917d59225de640b1dd0b1720f74e2830b9
     ]
    }
   ],
   "source": [
    "\"\"\"\n",
    "DON'T MODIFY ANYTHING IN THIS CELL THAT IS BELOW THIS LINE\n",
    "\"\"\"\n",
    "from urllib.request import urlretrieve\n",
    "from os.path import isfile, isdir\n",
    "from tqdm import tqdm\n",
    "import problem_unittests as tests\n",
    "import tarfile\n",
    "\n",
    "cifar10_dataset_folder_path = 'cifar-10-batches-py'\n",
    "\n",
    "# Use Floyd's cifar-10 dataset if present\n",
    "floyd_cifar10_location = '/input/cifar-10/python.tar.gz'\n",
    "if isfile(floyd_cifar10_location):\n",
    "    tar_gz_path = floyd_cifar10_location\n",
    "else:\n",
    "    tar_gz_path = 'cifar-10-python.tar.gz'\n",
    "\n",
    "class DLProgress(tqdm):\n",
    "    last_block = 0\n",
    "\n",
    "    def hook(self, block_num=1, block_size=1, total_size=None):\n",
    "        self.total = total_size\n",
    "        self.update((block_num - self.last_block) * block_size)\n",
    "        self.last_block = block_num\n",
    "\n",
    "if not isfile(tar_gz_path):\n",
    "    with DLProgress(unit='B', unit_scale=True, miniters=1, desc='CIFAR-10 Dataset') as pbar:\n",
    "        urlretrieve(\n",
    "            'https://www.cs.toronto.edu/~kriz/cifar-10-python.tar.gz',\n",
    "            tar_gz_path,\n",
    "            pbar.hook)\n",
    "\n",
    "if not isdir(cifar10_dataset_folder_path):\n",
    "    with tarfile.open(tar_gz_path) as tar:\n",
    "        tar.extractall()\n",
    "        tar.close()\n",
    "\n",
    "\n",
    "tests.test_folder_path(cifar10_dataset_folder_path)"
   ]
  },
  {
   "cell_type": "markdown",
   "metadata": {
    "deletable": true,
    "editable": true
   },
   "source": [
    "## Explore the Data\n",
    "The dataset is broken into batches to prevent your machine from running out of memory.  The CIFAR-10 dataset consists of 5 batches, named `data_batch_1`, `data_batch_2`, etc.. Each batch contains the labels and images that are one of the following:\n",
    "* airplane\n",
    "* automobile\n",
    "* bird\n",
    "* cat\n",
    "* deer\n",
    "* dog\n",
    "* frog\n",
    "* horse\n",
    "* ship\n",
    "* truck\n",
    "\n",
    "Understanding a dataset is part of making predictions on the data.  Play around with the code cell below by changing the `batch_id` and `sample_id`. The `batch_id` is the id for a batch (1-5). The `sample_id` is the id for a image and label pair in the batch.\n",
    "\n",
    "Ask yourself \"What are all possible labels?\", \"What is the range of values for the image data?\", \"Are the labels in order or random?\".  Answers to questions like these will help you preprocess the data and end up with better predictions."
   ]
  },
  {
   "cell_type": "code",
   "execution_count": 21,
   "metadata": {
<<<<<<< HEAD
    "collapsed": true
=======
    "collapsed": false,
    "deletable": true,
    "editable": true
>>>>>>> 26b0fa917d59225de640b1dd0b1720f74e2830b9
   },
   "outputs": [
    {
     "name": "stdout",
     "output_type": "stream",
     "text": [
      "\n",
      "Stats of batch 1:\n",
      "Samples: 10000\n",
      "Label Counts: {0: 1005, 1: 974, 2: 1032, 3: 1016, 4: 999, 5: 937, 6: 1030, 7: 1001, 8: 1025, 9: 981}\n",
      "First 20 Labels: [6, 9, 9, 4, 1, 1, 2, 7, 8, 3, 4, 7, 7, 2, 9, 9, 9, 3, 2, 6]\n",
      "\n",
      "Example of Image 5:\n",
      "Image - Min Value: 0 Max Value: 252\n",
      "Image - Shape: (32, 32, 3)\n",
      "Label - Label Id: 1 Name: automobile\n"
     ]
    },
    {
     "data": {
      "image/png": "iVBORw0KGgoAAAANSUhEUgAAAfoAAAH0CAYAAADVH+85AAAABHNCSVQICAgIfAhkiAAAAAlwSFlz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\nrkJggg==\n",
      "text/plain": [
       "<matplotlib.figure.Figure at 0x7f2841209278>"
      ]
     },
     "metadata": {
      "image/png": {
       "height": 250,
       "width": 253
      }
     },
     "output_type": "display_data"
    }
   ],
   "source": [
    "%matplotlib inline\n",
    "%config InlineBackend.figure_format = 'retina'\n",
    "\n",
    "import helper\n",
    "import numpy as np\n",
    "\n",
    "# Explore the dataset\n",
    "batch_id = 1\n",
    "sample_id = 5\n",
    "helper.display_stats(cifar10_dataset_folder_path, batch_id, sample_id)"
   ]
  },
  {
   "cell_type": "markdown",
   "metadata": {
    "deletable": true,
    "editable": true
   },
   "source": [
    "## Implement Preprocess Functions\n",
    "### Normalize\n",
    "In the cell below, implement the `normalize` function to take in image data, `x`, and return it as a normalized Numpy array. The values should be in the range of 0 to 1, inclusive.  The return object should be the same shape as `x`."
   ]
  },
  {
   "cell_type": "code",
   "execution_count": 22,
   "metadata": {
<<<<<<< HEAD
    "collapsed": true
=======
    "collapsed": false,
    "deletable": true,
    "editable": true
>>>>>>> 26b0fa917d59225de640b1dd0b1720f74e2830b9
   },
   "outputs": [
    {
     "name": "stdout",
     "output_type": "stream",
     "text": [
      "Tests Passed\n"
     ]
    }
   ],
   "source": [
    "def normalize(x):\n",
    "    \"\"\"\n",
    "    Normalize a list of sample image data in the range of 0 to 1\n",
    "    : x: List of image data.  The image shape is (32, 32, 3)\n",
    "    : return: Numpy array of normalize data\n",
    "    \"\"\"\n",
    "    # TODO: Implement Function\n",
    "    new_x = x/255\n",
    "    return new_x\n",
    "\n",
    "\n",
    "\"\"\"\n",
    "DON'T MODIFY ANYTHING IN THIS CELL THAT IS BELOW THIS LINE\n",
    "\"\"\"\n",
    "tests.test_normalize(normalize)"
   ]
  },
  {
   "cell_type": "markdown",
   "metadata": {
    "deletable": true,
    "editable": true
   },
   "source": [
    "### One-hot encode\n",
    "Just like the previous code cell, you'll be implementing a function for preprocessing.  This time, you'll implement the `one_hot_encode` function. The input, `x`, are a list of labels.  Implement the function to return the list of labels as One-Hot encoded Numpy array.  The possible values for labels are 0 to 9. The one-hot encoding function should return the same encoding for each value between each call to `one_hot_encode`.  Make sure to save the map of encodings outside the function.\n",
    "\n",
    "Hint: Don't reinvent the wheel."
   ]
  },
  {
   "cell_type": "code",
   "execution_count": 23,
   "metadata": {
<<<<<<< HEAD
    "collapsed": true
=======
    "collapsed": false,
    "deletable": true,
    "editable": true
>>>>>>> 26b0fa917d59225de640b1dd0b1720f74e2830b9
   },
   "outputs": [
    {
     "name": "stdout",
     "output_type": "stream",
     "text": [
      "Tests Passed\n"
     ]
    }
   ],
   "source": [
    "def one_hot_encode(x):\n",
    "    \"\"\"\n",
    "    One hot encode a list of sample labels. Return a one-hot encoded vector for each label.\n",
    "    : x: List of sample Labels\n",
    "    : return: Numpy array of one-hot encoded labels\n",
    "    \"\"\"\n",
    "    # TODO: Implement Function\n",
    "    one_hot_encode = []\n",
    "    one_all = np.ones(10)\n",
    "    label_all = np.arange(10)\n",
    "    for label in x:\n",
    "        one_hot = one_all * (label_all == label)\n",
    "        one_hot_encode.append(one_hot)\n",
    "    one_hot_encode = np.array(one_hot_encode)\n",
    "    return one_hot_encode\n",
    "\n",
    "\n",
    "\"\"\"\n",
    "DON'T MODIFY ANYTHING IN THIS CELL THAT IS BELOW THIS LINE\n",
    "\"\"\"\n",
    "tests.test_one_hot_encode(one_hot_encode)"
   ]
  },
  {
   "cell_type": "markdown",
   "metadata": {
    "deletable": true,
    "editable": true
   },
   "source": [
    "### Randomize Data\n",
    "As you saw from exploring the data above, the order of the samples are randomized.  It doesn't hurt to randomize it again, but you don't need to for this dataset."
   ]
  },
  {
   "cell_type": "markdown",
   "metadata": {
    "deletable": true,
    "editable": true
   },
   "source": [
    "## Preprocess all the data and save it\n",
    "Running the code cell below will preprocess all the CIFAR-10 data and save it to file. The code below also uses 10% of the training data for validation."
   ]
  },
  {
   "cell_type": "code",
   "execution_count": 24,
   "metadata": {
<<<<<<< HEAD
    "collapsed": true
=======
    "collapsed": true,
    "deletable": true,
    "editable": true
>>>>>>> 26b0fa917d59225de640b1dd0b1720f74e2830b9
   },
   "outputs": [],
   "source": [
    "\"\"\"\n",
    "DON'T MODIFY ANYTHING IN THIS CELL\n",
    "\"\"\"\n",
    "# Preprocess Training, Validation, and Testing Data\n",
    "helper.preprocess_and_save_data(cifar10_dataset_folder_path, normalize, one_hot_encode)"
   ]
  },
  {
   "cell_type": "markdown",
   "metadata": {
    "deletable": true,
    "editable": true
   },
   "source": [
    "# Check Point\n",
    "This is your first checkpoint.  If you ever decide to come back to this notebook or have to restart the notebook, you can start from here.  The preprocessed data has been saved to disk."
   ]
  },
  {
   "cell_type": "code",
   "execution_count": 25,
   "metadata": {
    "collapsed": true,
    "deletable": true,
    "editable": true
   },
   "outputs": [],
   "source": [
    "\"\"\"\n",
    "DON'T MODIFY ANYTHING IN THIS CELL\n",
    "\"\"\"\n",
    "import pickle\n",
    "import problem_unittests as tests\n",
    "import helper\n",
    "\n",
    "# Load the Preprocessed Validation data\n",
    "valid_features, valid_labels = pickle.load(open('preprocess_validation.p', mode='rb'))"
   ]
  },
  {
   "cell_type": "markdown",
   "metadata": {
    "deletable": true,
    "editable": true
   },
   "source": [
    "## Build the network\n",
    "For the neural network, you'll build each layer into a function.  Most of the code you've seen has been outside of functions. To test your code more thoroughly, we require that you put each layer in a function.  This allows us to give you better feedback and test for simple mistakes using our unittests before you submit your project.\n",
    "\n",
    ">**Note:** If you're finding it hard to dedicate enough time for this course each week, we've provided a small shortcut to this part of the project. In the next couple of problems, you'll have the option to use classes from the [TensorFlow Layers](https://www.tensorflow.org/api_docs/python/tf/layers) or [TensorFlow Layers (contrib)](https://www.tensorflow.org/api_guides/python/contrib.layers) packages to build each layer, except the layers you build in the \"Convolutional and Max Pooling Layer\" section.  TF Layers is similar to Keras's and TFLearn's abstraction to layers, so it's easy to pickup.\n",
    "\n",
    ">However, if you would like to get the most out of this course, try to solve all the problems _without_ using anything from the TF Layers packages. You **can** still use classes from other packages that happen to have the same name as ones you find in TF Layers! For example, instead of using the TF Layers version of the `conv2d` class, [tf.layers.conv2d](https://www.tensorflow.org/api_docs/python/tf/layers/conv2d), you would want to use the TF Neural Network version of `conv2d`, [tf.nn.conv2d](https://www.tensorflow.org/api_docs/python/tf/nn/conv2d). \n",
    "\n",
    "Let's begin!\n",
    "\n",
    "### Input\n",
    "The neural network needs to read the image data, one-hot encoded labels, and dropout keep probability. Implement the following functions\n",
    "* Implement `neural_net_image_input`\n",
    " * Return a [TF Placeholder](https://www.tensorflow.org/api_docs/python/tf/placeholder)\n",
    " * Set the shape using `image_shape` with batch size set to `None`.\n",
    " * Name the TensorFlow placeholder \"x\" using the TensorFlow `name` parameter in the [TF Placeholder](https://www.tensorflow.org/api_docs/python/tf/placeholder).\n",
    "* Implement `neural_net_label_input`\n",
    " * Return a [TF Placeholder](https://www.tensorflow.org/api_docs/python/tf/placeholder)\n",
    " * Set the shape using `n_classes` with batch size set to `None`.\n",
    " * Name the TensorFlow placeholder \"y\" using the TensorFlow `name` parameter in the [TF Placeholder](https://www.tensorflow.org/api_docs/python/tf/placeholder).\n",
    "* Implement `neural_net_keep_prob_input`\n",
    " * Return a [TF Placeholder](https://www.tensorflow.org/api_docs/python/tf/placeholder) for dropout keep probability.\n",
    " * Name the TensorFlow placeholder \"keep_prob\" using the TensorFlow `name` parameter in the [TF Placeholder](https://www.tensorflow.org/api_docs/python/tf/placeholder).\n",
    "\n",
    "These names will be used at the end of the project to load your saved model.\n",
    "\n",
    "Note: `None` for shapes in TensorFlow allow for a dynamic size."
   ]
  },
  {
   "cell_type": "code",
   "execution_count": 26,
   "metadata": {
<<<<<<< HEAD
    "collapsed": true
=======
    "collapsed": false,
    "deletable": true,
    "editable": true
>>>>>>> 26b0fa917d59225de640b1dd0b1720f74e2830b9
   },
   "outputs": [
    {
     "name": "stdout",
     "output_type": "stream",
     "text": [
      "Image Input Tests Passed.\n",
      "Label Input Tests Passed.\n",
      "Keep Prob Tests Passed.\n"
     ]
    }
   ],
   "source": [
    "import tensorflow as tf\n",
    "\n",
    "def neural_net_image_input(image_shape):\n",
    "    \"\"\"\n",
    "    Return a Tensor for a batch of image input\n",
    "    : image_shape: Shape of the images\n",
    "    : return: Tensor for image input.\n",
    "    \"\"\"\n",
    "    # TODO: Implement Function   \n",
    "\n",
    "    x = tf.placeholder(tf.float32, shape=(None, *image_shape), name = 'x')\n",
    "    return x\n",
    "\n",
    "\n",
    "def neural_net_label_input(n_classes):\n",
    "    \"\"\"\n",
    "    Return a Tensor for a batch of label input\n",
    "    : n_classes: Number of classes\n",
    "    : return: Tensor for label input.\n",
    "    \"\"\"\n",
    "    # TODO: Implement Function\n",
    "    y = tf.placeholder(tf.float32, shape=(None, n_classes), name= 'y')\n",
    "    return y\n",
    "\n",
    "\n",
    "def neural_net_keep_prob_input():\n",
    "    \"\"\"\n",
    "    Return a Tensor for keep probability\n",
    "    : return: Tensor for keep probability.\n",
    "    \"\"\"\n",
    "    # TODO: Implement Function\n",
    "    keep_prob = tf.placeholder(tf.float32, name = 'keep_prob')\n",
    "    return keep_prob\n",
    "\n",
    "\n",
    "\"\"\"\n",
    "DON'T MODIFY ANYTHING IN THIS CELL THAT IS BELOW THIS LINE\n",
    "\"\"\"\n",
    "tf.reset_default_graph()\n",
    "tests.test_nn_image_inputs(neural_net_image_input)\n",
    "tests.test_nn_label_inputs(neural_net_label_input)\n",
    "tests.test_nn_keep_prob_inputs(neural_net_keep_prob_input)"
   ]
  },
  {
   "cell_type": "markdown",
   "metadata": {
    "deletable": true,
    "editable": true
   },
   "source": [
    "### Convolution and Max Pooling Layer\n",
    "Convolution layers have a lot of success with images. For this code cell, you should implement the function `conv2d_maxpool` to apply convolution then max pooling:\n",
    "* Create the weight and bias using `conv_ksize`, `conv_num_outputs` and the shape of `x_tensor`.\n",
    "* Apply a convolution to `x_tensor` using weight and `conv_strides`.\n",
    " * We recommend you use same padding, but you're welcome to use any padding.\n",
    "* Add bias\n",
    "* Add a nonlinear activation to the convolution.\n",
    "* Apply Max Pooling using `pool_ksize` and `pool_strides`.\n",
    " * We recommend you use same padding, but you're welcome to use any padding.\n",
    "\n",
    "**Note:** You **can't** use [TensorFlow Layers](https://www.tensorflow.org/api_docs/python/tf/layers) or [TensorFlow Layers (contrib)](https://www.tensorflow.org/api_guides/python/contrib.layers) for **this** layer, but you can still use TensorFlow's [Neural Network](https://www.tensorflow.org/api_docs/python/tf/nn) package. You may still use the shortcut option for all the **other** layers."
   ]
  },
  {
   "cell_type": "code",
   "execution_count": 27,
   "metadata": {
<<<<<<< HEAD
    "collapsed": true
=======
    "collapsed": false,
    "deletable": true,
    "editable": true
>>>>>>> 26b0fa917d59225de640b1dd0b1720f74e2830b9
   },
   "outputs": [
    {
     "name": "stdout",
     "output_type": "stream",
     "text": [
      "Tests Passed\n"
     ]
    }
   ],
   "source": [
    "def conv2d_maxpool(x_tensor, conv_num_outputs, conv_ksize, conv_strides, pool_ksize, pool_strides):\n",
    "    \"\"\"\n",
    "    Apply convolution then max pooling to x_tensor\n",
    "    :param x_tensor: TensorFlow Tensor\n",
    "    :param conv_num_outputs: Number of outputs for the convolutional layer\n",
    "    :param conv_ksize: kernal size 2-D Tuple for the convolutional layer\n",
    "    :param conv_strides: Stride 2-D Tuple for convolution\n",
    "    :param pool_ksize: kernal size 2-D Tuple for pool\n",
    "    :param pool_strides: Stride 2-D Tuple for pool\n",
    "    : return: A tensor that represents convolution and max pooling of x_tensor\n",
    "    \"\"\"\n",
    "    # TODO: Implement Function\n",
    "    \n",
    "    MEAN_INIT = 0.00\n",
    "    STDDEV_INIT = 0.05\n",
    "    # Create the weight and bias using conv_ksize, \n",
    "    # conv_num_outputs and the shape of x_tensor.\n",
    "   # from IPython.core.debugger import Tracer; Tracer()() \n",
    "    x_batch_size, x_height, x_width, x_depth = x_tensor.shape\n",
    "    \n",
    "    W = tf.Variable(\n",
    "            tf.truncated_normal(mean=MEAN_INIT, stddev=STDDEV_INIT,shape=[*conv_ksize, x_depth.value, conv_num_outputs]))\n",
    "    b = tf.Variable(tf.truncated_normal(mean=MEAN_INIT, stddev=STDDEV_INIT,shape=[conv_num_outputs]))\n",
    "                    \n",
    "    # conv2d()\n",
    "    x = tf.nn.conv2d(\n",
    "            x_tensor, W, \n",
    "            strides=[1, *conv_strides, 1], \n",
    "            padding='SAME')\n",
    "    x = tf.nn.bias_add(x, b)\n",
    "\n",
    "    # maxpool2d():\n",
    "    x = tf.nn.max_pool(\n",
    "            x, ksize=[1, *pool_ksize, 1],\n",
    "            strides=[1, *pool_strides, 1],\n",
    "            padding='SAME')\n",
    "    \n",
    "    x = tf.nn.relu(x)\n",
    "    \n",
    "    return x\n",
    "\n",
    "\n",
    "\n",
    "\"\"\"\n",
    "DON'T MODIFY ANYTHING IN THIS CELL THAT IS BELOW THIS LINE\n",
    "\"\"\"\n",
    "tests.test_con_pool(conv2d_maxpool)"
   ]
  },
  {
   "cell_type": "markdown",
   "metadata": {
    "deletable": true,
    "editable": true
   },
   "source": [
    "### Flatten Layer\n",
    "Implement the `flatten` function to change the dimension of `x_tensor` from a 4-D tensor to a 2-D tensor.  The output should be the shape (*Batch Size*, *Flattened Image Size*). Shortcut option: you can use classes from the [TensorFlow Layers](https://www.tensorflow.org/api_docs/python/tf/layers) or [TensorFlow Layers (contrib)](https://www.tensorflow.org/api_guides/python/contrib.layers) packages for this layer. For more of a challenge, only use other TensorFlow packages."
   ]
  },
  {
   "cell_type": "code",
   "execution_count": 28,
   "metadata": {
<<<<<<< HEAD
    "collapsed": true
=======
    "collapsed": false,
    "deletable": true,
    "editable": true
>>>>>>> 26b0fa917d59225de640b1dd0b1720f74e2830b9
   },
   "outputs": [
    {
     "name": "stdout",
     "output_type": "stream",
     "text": [
      "Tests Passed\n"
     ]
    }
   ],
   "source": [
    "def flatten(x_tensor):\n",
    "    \"\"\"\n",
    "    Flatten x_tensor to (Batch Size, Flattened Image Size)\n",
    "    : x_tensor: A tensor of size (Batch Size, ...), where ... are the image dimensions.\n",
    "    : return: A tensor of size (Batch Size, Flattened Image Size).\n",
    "    \"\"\"\n",
    "    # TODO: Implement Function\n",
    "    x_batch_size, x_height, x_width, x_depth = x_tensor.shape\n",
    "    x_tensor = tf.reshape(x_tensor, [-1, x_height.value * x_width.value * x_depth.value])\n",
    "    return x_tensor\n",
    "\n",
    "\n",
    "\"\"\"\n",
    "DON'T MODIFY ANYTHING IN THIS CELL THAT IS BELOW THIS LINE\n",
    "\"\"\"\n",
    "tests.test_flatten(flatten)"
   ]
  },
  {
   "cell_type": "markdown",
   "metadata": {
    "deletable": true,
    "editable": true
   },
   "source": [
    "### Fully-Connected Layer\n",
    "Implement the `fully_conn` function to apply a fully connected layer to `x_tensor` with the shape (*Batch Size*, *num_outputs*). Shortcut option: you can use classes from the [TensorFlow Layers](https://www.tensorflow.org/api_docs/python/tf/layers) or [TensorFlow Layers (contrib)](https://www.tensorflow.org/api_guides/python/contrib.layers) packages for this layer. For more of a challenge, only use other TensorFlow packages."
   ]
  },
  {
   "cell_type": "code",
   "execution_count": 29,
   "metadata": {
<<<<<<< HEAD
    "collapsed": true
=======
    "collapsed": false,
    "deletable": true,
    "editable": true,
    "scrolled": true
>>>>>>> 26b0fa917d59225de640b1dd0b1720f74e2830b9
   },
   "outputs": [
    {
     "name": "stdout",
     "output_type": "stream",
     "text": [
      "Tests Passed\n"
     ]
    }
   ],
   "source": [
    "def fully_conn(x_tensor, num_outputs):\n",
    "    \"\"\"\n",
    "    Apply a fully connected layer to x_tensor using weight and bias\n",
    "    : x_tensor: A 2-D tensor where the first dimension is batch size.\n",
    "    : num_outputs: The number of output that the new tensor should be.\n",
    "    : return: A 2-D tensor where the second dimension is num_outputs.\n",
    "    \"\"\"\n",
    "    # TODO: Implement Function\n",
    "    MEAN_INIT = 0.00\n",
    "    STDDEV_INIT = 0.05\n",
    "    W_dim = (x_tensor.get_shape().as_list()[1:])\n",
    "    W = tf.Variable(tf.truncated_normal(mean=MEAN_INIT, stddev=STDDEV_INIT,shape=[*W_dim, num_outputs]))\n",
    "    b = tf.Variable(tf.truncated_normal(mean=MEAN_INIT, stddev=STDDEV_INIT,shape=[num_outputs]))\n",
    "    # Fully connected layer \n",
    "\n",
    "    fc = tf.reshape(x_tensor, [-1, *W_dim])\n",
    "    fc = tf.add(tf.matmul(fc, W), b)\n",
    "    fc = tf.nn.relu(fc)\n",
    "\n",
    "\n",
    "    return fc\n",
    "\n",
    "\"\"\"\n",
    "DON'T MODIFY ANYTHING IN THIS CELL THAT IS BELOW THIS LINE\n",
    "\"\"\"\n",
    "tests.test_fully_conn(fully_conn)"
   ]
  },
  {
   "cell_type": "markdown",
   "metadata": {
    "deletable": true,
    "editable": true
   },
   "source": [
    "### Output Layer\n",
    "Implement the `output` function to apply a fully connected layer to `x_tensor` with the shape (*Batch Size*, *num_outputs*). Shortcut option: you can use classes from the [TensorFlow Layers](https://www.tensorflow.org/api_docs/python/tf/layers) or [TensorFlow Layers (contrib)](https://www.tensorflow.org/api_guides/python/contrib.layers) packages for this layer. For more of a challenge, only use other TensorFlow packages.\n",
    "\n",
    "**Note:** Activation, softmax, or cross entropy should **not** be applied to this."
   ]
  },
  {
   "cell_type": "code",
   "execution_count": 30,
   "metadata": {
<<<<<<< HEAD
    "collapsed": true
=======
    "collapsed": false,
    "deletable": true,
    "editable": true
>>>>>>> 26b0fa917d59225de640b1dd0b1720f74e2830b9
   },
   "outputs": [
    {
     "name": "stdout",
     "output_type": "stream",
     "text": [
      "Tests Passed\n"
     ]
    }
   ],
   "source": [
    "def output(x_tensor, num_outputs):\n",
    "    \"\"\"\n",
    "    Apply a output layer to x_tensor using weight and bias\n",
    "    : x_tensor: A 2-D tensor where the first dimension is batch size.\n",
    "    : num_outputs: The number of output that the new tensor should be.\n",
    "    : return: A 2-D tensor where the second dimension is num_outputs.\n",
    "    \"\"\"\n",
    "    # TODO: Implement Function\n",
    "    MEAN_INIT = 0.00\n",
    "    STDDEV_INIT = 0.05\n",
    "    W_dim = (x_tensor.get_shape().as_list()[1:])\n",
    "    W = tf.Variable(tf.truncated_normal(mean=MEAN_INIT, stddev=STDDEV_INIT,shape=[*W_dim, num_outputs]))\n",
    "    b = tf.Variable(tf.truncated_normal(mean=MEAN_INIT, stddev=STDDEV_INIT,shape=[num_outputs]))\n",
    "    # x_tensor = tf.reshape(x_tensor, [-1, *W_dim])\n",
    "    out = tf.add(tf.matmul(x_tensor, W), b)\n",
    "    return out\n",
    "\n",
    "\n",
    "\"\"\"\n",
    "DON'T MODIFY ANYTHING IN THIS CELL THAT IS BELOW THIS LINE\n",
    "\"\"\"\n",
    "tests.test_output(output)"
   ]
  },
  {
   "cell_type": "markdown",
   "metadata": {
    "deletable": true,
    "editable": true
   },
   "source": [
    "### Create Convolutional Model\n",
    "Implement the function `conv_net` to create a convolutional neural network model. The function takes in a batch of images, `x`, and outputs logits.  Use the layers you created above to create this model:\n",
    "\n",
    "* Apply 1, 2, or 3 Convolution and Max Pool layers\n",
    "* Apply a Flatten Layer\n",
    "* Apply 1, 2, or 3 Fully Connected Layers\n",
    "* Apply an Output Layer\n",
    "* Return the output\n",
    "* Apply [TensorFlow's Dropout](https://www.tensorflow.org/api_docs/python/tf/nn/dropout) to one or more layers in the model using `keep_prob`. "
   ]
  },
  {
   "cell_type": "code",
   "execution_count": 31,
   "metadata": {
<<<<<<< HEAD
    "collapsed": true
=======
    "collapsed": false,
    "deletable": true,
    "editable": true
>>>>>>> 26b0fa917d59225de640b1dd0b1720f74e2830b9
   },
   "outputs": [
    {
     "name": "stdout",
     "output_type": "stream",
     "text": [
      "Neural Network Built!\n"
     ]
    }
   ],
   "source": [
    "def conv_net(x, keep_prob):\n",
    "    \"\"\"\n",
    "    Create a convolutional neural network model\n",
    "    : x: Placeholder tensor that holds image data.\n",
    "    : keep_prob: Placeholder tensor that hold dropout keep probability.\n",
    "    : return: Tensor that represents logits\n",
    "    \"\"\"\n",
    "    # TODO: Apply 1, 2, or 3 Convolution and Max Pool layers\n",
    "    #    Play around with different number of outputs, kernel size and stride\n",
    "    # Function Definition from Above:\n",
    "    #    x = conv2d_maxpool(x, conv_num_outputs, conv_ksize, conv_strides, pool_ksize, pool_strides)\n",
    "\n",
    "    x = conv2d_maxpool(x, 64, (5, 5), (1, 1), (2, 2), (2, 2))\n",
    "    x = tf.nn.dropout(x, keep_prob)\n",
    "    x = conv2d_maxpool(x, 32, (3, 3), (1, 1), (1, 1), (1, 1))\n",
    "    x = tf.nn.dropout(x, keep_prob)\n",
    "    x = conv2d_maxpool(x, 32, (3, 3), (1, 1), (1, 1), (1, 1))\n",
    "    \n",
    "\n",
    "    # TODO: Apply a Flatten Layer\n",
    "    # Function Definition from Above:\n",
    "    #   flatten(x_tensor)\n",
    "    x = flatten(x)\n",
    "\n",
    "    # TODO: Apply 1, 2, or 3 Fully Connected Layers\n",
    "    #    Play around with different number of outputs\n",
    "    # Function Definition from Above:\n",
    "    #   fully_conn(x_tensor, num_outputs)\n",
    "    x = fully_conn(x, 800)\n",
    "    x = tf.nn.dropout(x, keep_prob)\n",
    "    x = fully_conn(x, 800)\n",
    "    x = tf.nn.dropout(x, keep_prob)\n",
    "   # x = fully_conn(x, 400)\n",
    "    \n",
    "    # TODO: Apply an Output Layer\n",
    "    #    Set this to the number of classes\n",
    "    # Function Definition from Above:\n",
    "    #   output(x_tensor, num_outputs)\n",
    "    x = output(x,10)\n",
    "    \n",
    "    # TODO: return output\n",
    "    return x\n",
    "\n",
    "\"\"\"\n",
    "DON'T MODIFY ANYTHING IN THIS CELL THAT IS BELOW THIS LINE\n",
    "\"\"\"\n",
    "\n",
    "##############################\n",
    "## Build the Neural Network ##\n",
    "##############################\n",
    "\n",
    "# Remove previous weights, bias, inputs, etc..\n",
    "tf.reset_default_graph()\n",
    "\n",
    "# Inputs\n",
    "x = neural_net_image_input((32, 32, 3))\n",
    "y = neural_net_label_input(10)\n",
    "keep_prob = neural_net_keep_prob_input()\n",
    "\n",
    "# Model\n",
    "logits = conv_net(x, keep_prob)\n",
    "\n",
    "# Name logits Tensor, so that is can be loaded from disk after training\n",
    "logits = tf.identity(logits, name='logits')\n",
    "\n",
    "# Loss and Optimizer\n",
    "cost = tf.reduce_mean(tf.nn.softmax_cross_entropy_with_logits(logits=logits, labels=y))\n",
    "optimizer = tf.train.AdamOptimizer().minimize(cost)\n",
    "\n",
    "# Accuracy\n",
    "correct_pred = tf.equal(tf.argmax(logits, 1), tf.argmax(y, 1))\n",
    "accuracy = tf.reduce_mean(tf.cast(correct_pred, tf.float32), name='accuracy')\n",
    "\n",
    "tests.test_conv_net(conv_net)"
   ]
  },
  {
   "cell_type": "markdown",
   "metadata": {
    "deletable": true,
    "editable": true
   },
   "source": [
    "## Train the Neural Network\n",
    "### Single Optimization\n",
    "Implement the function `train_neural_network` to do a single optimization.  The optimization should use `optimizer` to optimize in `session` with a `feed_dict` of the following:\n",
    "* `x` for image input\n",
    "* `y` for labels\n",
    "* `keep_prob` for keep probability for dropout\n",
    "\n",
    "This function will be called for each batch, so `tf.global_variables_initializer()` has already been called.\n",
    "\n",
    "Note: Nothing needs to be returned. This function is only optimizing the neural network."
   ]
  },
  {
   "cell_type": "code",
   "execution_count": 32,
   "metadata": {
<<<<<<< HEAD
    "collapsed": true
=======
    "collapsed": false,
    "deletable": true,
    "editable": true,
    "scrolled": true
>>>>>>> 26b0fa917d59225de640b1dd0b1720f74e2830b9
   },
   "outputs": [
    {
     "name": "stdout",
     "output_type": "stream",
     "text": [
      "Tests Passed\n"
     ]
    }
   ],
   "source": [
    "def train_neural_network(session, optimizer, keep_probability, feature_batch, label_batch):\n",
    "    \"\"\"\n",
    "    Optimize the session on a batch of images and labels\n",
    "    : session: Current TensorFlow session\n",
    "    : optimizer: TensorFlow optimizer function\n",
    "    : keep_probability: keep probability\n",
    "    : feature_batch: Batch of Numpy image data\n",
    "    : label_batch: Batch of Numpy label data\n",
    "    \"\"\"\n",
    "    # TODO: Implement Function\n",
    "\n",
    "    train_feed_dict = {\n",
    "        x:feature_batch,\n",
    "        y:label_batch,\n",
    "        keep_prob:keep_probability}\n",
    "    session.run(optimizer, feed_dict=train_feed_dict)   \n",
    "    pass\n",
    "\n",
    "\n",
    "\"\"\"\n",
    "DON'T MODIFY ANYTHING IN THIS CELL THAT IS BELOW THIS LINE\n",
    "\"\"\"\n",
    "tests.test_train_nn(train_neural_network)"
   ]
  },
  {
   "cell_type": "markdown",
   "metadata": {
    "deletable": true,
    "editable": true
   },
   "source": [
    "### Show Stats\n",
    "Implement the function `print_stats` to print loss and validation accuracy.  Use the global variables `valid_features` and `valid_labels` to calculate validation accuracy.  Use a keep probability of `1.0` to calculate the loss and validation accuracy."
   ]
  },
  {
   "cell_type": "code",
   "execution_count": 33,
   "metadata": {
<<<<<<< HEAD
    "collapsed": true
=======
    "collapsed": false,
    "deletable": true,
    "editable": true
>>>>>>> 26b0fa917d59225de640b1dd0b1720f74e2830b9
   },
   "outputs": [],
   "source": [
    "def print_stats(session, feature_batch, label_batch, cost, accuracy):\n",
    "    \"\"\"\n",
    "    Print information about loss and validation accuracy\n",
    "    : session: Current TensorFlow session\n",
    "    : feature_batch: Batch of Numpy image data\n",
    "    : label_batch: Batch of Numpy label data\n",
    "    : cost: TensorFlow cost function\n",
    "    : accuracy: TensorFlow accuracy function\n",
    "    \"\"\"\n",
    "    # TODO: Implement Function\n",
    "    current_cost = session.run(\n",
    "        cost, \n",
    "        feed_dict={x: feature_batch, y: label_batch, keep_prob:1})\n",
    "    valid_accuracy = session.run(\n",
    "        accuracy,\n",
    "        feed_dict={x: valid_features, y: valid_labels, keep_prob:1})\n",
    "    print('Cost: {:<8.3} Valid Accuracy: {:<5.3}'.format(\n",
    "        current_cost,\n",
    "        valid_accuracy))\n",
    "    pass"
   ]
  },
  {
   "cell_type": "markdown",
   "metadata": {
    "deletable": true,
    "editable": true
   },
   "source": [
    "### Hyperparameters\n",
    "Tune the following parameters:\n",
    "* Set `epochs` to the number of iterations until the network stops learning or start overfitting\n",
    "* Set `batch_size` to the highest number that your machine has memory for.  Most people set them to common sizes of memory:\n",
    " * 64\n",
    " * 128\n",
    " * 256\n",
    " * ...\n",
    "* Set `keep_probability` to the probability of keeping a node using dropout"
   ]
  },
  {
   "cell_type": "code",
   "execution_count": 34,
   "metadata": {
    "collapsed": true,
    "deletable": true,
    "editable": true
   },
   "outputs": [],
   "source": [
    "# TODO: Tune Parameters\n",
    "epochs = 20\n",
    "batch_size = 256\n",
    "keep_probability = 0.8"
   ]
  },
  {
   "cell_type": "markdown",
   "metadata": {
    "deletable": true,
    "editable": true
   },
   "source": [
    "### Train on a Single CIFAR-10 Batch\n",
    "Instead of training the neural network on all the CIFAR-10 batches of data, let's use a single batch. This should save time while you iterate on the model to get a better accuracy.  Once the final validation accuracy is 50% or greater, run the model on all the data in the next section."
   ]
  },
  {
   "cell_type": "code",
   "execution_count": 35,
   "metadata": {
<<<<<<< HEAD
    "collapsed": true
=======
    "collapsed": false,
    "deletable": true,
    "editable": true,
    "scrolled": true
>>>>>>> 26b0fa917d59225de640b1dd0b1720f74e2830b9
   },
   "outputs": [
    {
     "name": "stdout",
     "output_type": "stream",
     "text": [
      "Checking the Training on a Single Batch...\n",
      "Epoch  1, CIFAR-10 Batch 1:  Cost: 2.04     Valid Accuracy: 0.323\n",
      "Epoch  2, CIFAR-10 Batch 1:  Cost: 1.74     Valid Accuracy: 0.424\n",
      "Epoch  3, CIFAR-10 Batch 1:  Cost: 1.47     Valid Accuracy: 0.463\n",
      "Epoch  4, CIFAR-10 Batch 1:  Cost: 1.23     Valid Accuracy: 0.48 \n",
      "Epoch  5, CIFAR-10 Batch 1:  Cost: 0.947    Valid Accuracy: 0.485\n",
      "Epoch  6, CIFAR-10 Batch 1:  Cost: 0.617    Valid Accuracy: 0.498\n",
      "Epoch  7, CIFAR-10 Batch 1:  Cost: 0.367    Valid Accuracy: 0.507\n",
      "Epoch  8, CIFAR-10 Batch 1:  Cost: 0.253    Valid Accuracy: 0.539\n",
      "Epoch  9, CIFAR-10 Batch 1:  Cost: 0.131    Valid Accuracy: 0.537\n",
      "Epoch 10, CIFAR-10 Batch 1:  Cost: 0.0783   Valid Accuracy: 0.521\n",
      "Epoch 11, CIFAR-10 Batch 1:  Cost: 0.0702   Valid Accuracy: 0.515\n",
      "Epoch 12, CIFAR-10 Batch 1:  Cost: 0.0457   Valid Accuracy: 0.51 \n",
      "Epoch 13, CIFAR-10 Batch 1:  Cost: 0.0219   Valid Accuracy: 0.528\n",
      "Epoch 14, CIFAR-10 Batch 1:  Cost: 0.0471   Valid Accuracy: 0.521\n",
      "Epoch 15, CIFAR-10 Batch 1:  Cost: 0.0221   Valid Accuracy: 0.514\n",
      "Epoch 16, CIFAR-10 Batch 1:  Cost: 0.00544  Valid Accuracy: 0.492\n",
      "Epoch 17, CIFAR-10 Batch 1:  Cost: 0.00405  Valid Accuracy: 0.53 \n",
      "Epoch 18, CIFAR-10 Batch 1:  Cost: 0.000791 Valid Accuracy: 0.528\n",
      "Epoch 19, CIFAR-10 Batch 1:  Cost: 0.000735 Valid Accuracy: 0.511\n",
      "Epoch 20, CIFAR-10 Batch 1:  Cost: 0.00104  Valid Accuracy: 0.512\n"
     ]
    }
   ],
   "source": [
    "\"\"\"\n",
    "DON'T MODIFY ANYTHING IN THIS CELL\n",
    "\"\"\"\n",
    "print('Checking the Training on a Single Batch...')\n",
    "with tf.Session() as sess:\n",
    "    # Initializing the variables\n",
    "    sess.run(tf.global_variables_initializer())\n",
    "    \n",
    "    # Training cycle\n",
    "    for epoch in range(epochs):\n",
    "        batch_i = 1\n",
    "        for batch_features, batch_labels in helper.load_preprocess_training_batch(batch_i, batch_size):\n",
    "            train_neural_network(sess, optimizer, keep_probability, batch_features, batch_labels)\n",
    "        print('Epoch {:>2}, CIFAR-10 Batch {}:  '.format(epoch + 1, batch_i), end='')\n",
    "        print_stats(sess, batch_features, batch_labels, cost, accuracy)"
   ]
  },
  {
   "cell_type": "markdown",
   "metadata": {
    "deletable": true,
    "editable": true
   },
   "source": [
    "### Fully Train the Model\n",
    "Now that you got a good accuracy with a single CIFAR-10 batch, try it with all five batches."
   ]
  },
  {
   "cell_type": "code",
   "execution_count": 36,
   "metadata": {
<<<<<<< HEAD
    "collapsed": true
=======
    "collapsed": false,
    "deletable": true,
    "editable": true
>>>>>>> 26b0fa917d59225de640b1dd0b1720f74e2830b9
   },
   "outputs": [
    {
     "name": "stdout",
     "output_type": "stream",
     "text": [
      "Training...\n",
      "Epoch  1, CIFAR-10 Batch 1:  Cost: 2.09     Valid Accuracy: 0.329\n",
      "Epoch  1, CIFAR-10 Batch 2:  Cost: 1.71     Valid Accuracy: 0.375\n",
      "Epoch  1, CIFAR-10 Batch 3:  Cost: 1.39     Valid Accuracy: 0.431\n",
      "Epoch  1, CIFAR-10 Batch 4:  Cost: 1.33     Valid Accuracy: 0.481\n",
      "Epoch  1, CIFAR-10 Batch 5:  Cost: 1.41     Valid Accuracy: 0.486\n",
      "Epoch  2, CIFAR-10 Batch 1:  Cost: 1.4      Valid Accuracy: 0.514\n",
      "Epoch  2, CIFAR-10 Batch 2:  Cost: 1.17     Valid Accuracy: 0.535\n",
      "Epoch  2, CIFAR-10 Batch 3:  Cost: 0.837    Valid Accuracy: 0.533\n",
      "Epoch  2, CIFAR-10 Batch 4:  Cost: 0.891    Valid Accuracy: 0.543\n",
      "Epoch  2, CIFAR-10 Batch 5:  Cost: 0.867    Valid Accuracy: 0.571\n",
      "Epoch  3, CIFAR-10 Batch 1:  Cost: 1.02     Valid Accuracy: 0.566\n",
      "Epoch  3, CIFAR-10 Batch 2:  Cost: 0.758    Valid Accuracy: 0.589\n",
      "Epoch  3, CIFAR-10 Batch 3:  Cost: 0.551    Valid Accuracy: 0.576\n",
      "Epoch  3, CIFAR-10 Batch 4:  Cost: 0.537    Valid Accuracy: 0.607\n",
      "Epoch  3, CIFAR-10 Batch 5:  Cost: 0.504    Valid Accuracy: 0.616\n",
      "Epoch  4, CIFAR-10 Batch 1:  Cost: 0.611    Valid Accuracy: 0.628\n",
      "Epoch  4, CIFAR-10 Batch 2:  Cost: 0.478    Valid Accuracy: 0.603\n",
      "Epoch  4, CIFAR-10 Batch 3:  Cost: 0.283    Valid Accuracy: 0.626\n",
      "Epoch  4, CIFAR-10 Batch 4:  Cost: 0.29     Valid Accuracy: 0.625\n",
      "Epoch  4, CIFAR-10 Batch 5:  Cost: 0.295    Valid Accuracy: 0.638\n",
      "Epoch  5, CIFAR-10 Batch 1:  Cost: 0.336    Valid Accuracy: 0.646\n",
      "Epoch  5, CIFAR-10 Batch 2:  Cost: 0.258    Valid Accuracy: 0.632\n",
      "Epoch  5, CIFAR-10 Batch 3:  Cost: 0.137    Valid Accuracy: 0.65 \n",
      "Epoch  5, CIFAR-10 Batch 4:  Cost: 0.128    Valid Accuracy: 0.644\n",
      "Epoch  5, CIFAR-10 Batch 5:  Cost: 0.124    Valid Accuracy: 0.66 \n",
      "Epoch  6, CIFAR-10 Batch 1:  Cost: 0.143    Valid Accuracy: 0.646\n",
      "Epoch  6, CIFAR-10 Batch 2:  Cost: 0.1      Valid Accuracy: 0.648\n",
      "Epoch  6, CIFAR-10 Batch 3:  Cost: 0.0709   Valid Accuracy: 0.65 \n",
      "Epoch  6, CIFAR-10 Batch 4:  Cost: 0.0977   Valid Accuracy: 0.64 \n",
      "Epoch  6, CIFAR-10 Batch 5:  Cost: 0.0698   Valid Accuracy: 0.634\n",
      "Epoch  7, CIFAR-10 Batch 1:  Cost: 0.053    Valid Accuracy: 0.657\n",
      "Epoch  7, CIFAR-10 Batch 2:  Cost: 0.0479   Valid Accuracy: 0.633\n",
      "Epoch  7, CIFAR-10 Batch 3:  Cost: 0.0727   Valid Accuracy: 0.643\n",
      "Epoch  7, CIFAR-10 Batch 4:  Cost: 0.0632   Valid Accuracy: 0.65 \n",
      "Epoch  7, CIFAR-10 Batch 5:  Cost: 0.0299   Valid Accuracy: 0.654\n",
      "Epoch  8, CIFAR-10 Batch 1:  Cost: 0.033    Valid Accuracy: 0.647\n",
      "Epoch  8, CIFAR-10 Batch 2:  Cost: 0.0354   Valid Accuracy: 0.64 \n",
      "Epoch  8, CIFAR-10 Batch 3:  Cost: 0.0219   Valid Accuracy: 0.649\n",
      "Epoch  8, CIFAR-10 Batch 4:  Cost: 0.0236   Valid Accuracy: 0.654\n",
      "Epoch  8, CIFAR-10 Batch 5:  Cost: 0.0169   Valid Accuracy: 0.639\n",
      "Epoch  9, CIFAR-10 Batch 1:  Cost: 0.0386   Valid Accuracy: 0.631\n",
      "Epoch  9, CIFAR-10 Batch 2:  Cost: 0.0136   Valid Accuracy: 0.626\n",
      "Epoch  9, CIFAR-10 Batch 3:  Cost: 0.027    Valid Accuracy: 0.608\n",
      "Epoch  9, CIFAR-10 Batch 4:  Cost: 0.0245   Valid Accuracy: 0.661\n",
      "Epoch  9, CIFAR-10 Batch 5:  Cost: 0.00448  Valid Accuracy: 0.659\n",
      "Epoch 10, CIFAR-10 Batch 1:  Cost: 0.00906  Valid Accuracy: 0.644\n",
      "Epoch 10, CIFAR-10 Batch 2:  Cost: 0.0123   Valid Accuracy: 0.631\n",
      "Epoch 10, CIFAR-10 Batch 3:  Cost: 0.00476  Valid Accuracy: 0.628\n",
      "Epoch 10, CIFAR-10 Batch 4:  Cost: 0.0289   Valid Accuracy: 0.644\n",
      "Epoch 10, CIFAR-10 Batch 5:  Cost: 0.00245  Valid Accuracy: 0.66 \n",
      "Epoch 11, CIFAR-10 Batch 1:  Cost: 0.0116   Valid Accuracy: 0.649\n",
      "Epoch 11, CIFAR-10 Batch 2:  Cost: 0.00491  Valid Accuracy: 0.638\n",
      "Epoch 11, CIFAR-10 Batch 3:  Cost: 0.00507  Valid Accuracy: 0.65 \n",
      "Epoch 11, CIFAR-10 Batch 4:  Cost: 0.0326   Valid Accuracy: 0.651\n",
      "Epoch 11, CIFAR-10 Batch 5:  Cost: 0.00231  Valid Accuracy: 0.666\n",
      "Epoch 12, CIFAR-10 Batch 1:  Cost: 0.0146   Valid Accuracy: 0.642\n",
      "Epoch 12, CIFAR-10 Batch 2:  Cost: 0.00606  Valid Accuracy: 0.621\n",
      "Epoch 12, CIFAR-10 Batch 3:  Cost: 0.00958  Valid Accuracy: 0.654\n",
      "Epoch 12, CIFAR-10 Batch 4:  Cost: 0.00547  Valid Accuracy: 0.637\n",
      "Epoch 12, CIFAR-10 Batch 5:  Cost: 0.00283  Valid Accuracy: 0.65 \n",
      "Epoch 13, CIFAR-10 Batch 1:  Cost: 0.00442  Valid Accuracy: 0.643\n",
      "Epoch 13, CIFAR-10 Batch 2:  Cost: 0.00256  Valid Accuracy: 0.625\n",
      "Epoch 13, CIFAR-10 Batch 3:  Cost: 0.0133   Valid Accuracy: 0.653\n",
      "Epoch 13, CIFAR-10 Batch 4:  Cost: 0.0147   Valid Accuracy: 0.634\n",
      "Epoch 13, CIFAR-10 Batch 5:  Cost: 0.00115  Valid Accuracy: 0.666\n",
      "Epoch 14, CIFAR-10 Batch 1:  Cost: 0.00189  Valid Accuracy: 0.636\n",
      "Epoch 14, CIFAR-10 Batch 2:  Cost: 0.000924 Valid Accuracy: 0.649\n",
      "Epoch 14, CIFAR-10 Batch 3:  Cost: 0.00132  Valid Accuracy: 0.66 \n",
      "Epoch 14, CIFAR-10 Batch 4:  Cost: 0.00516  Valid Accuracy: 0.64 \n",
      "Epoch 14, CIFAR-10 Batch 5:  Cost: 0.00103  Valid Accuracy: 0.658\n",
      "Epoch 15, CIFAR-10 Batch 1:  Cost: 0.00147  Valid Accuracy: 0.648\n",
      "Epoch 15, CIFAR-10 Batch 2:  Cost: 0.000665 Valid Accuracy: 0.662\n",
      "Epoch 15, CIFAR-10 Batch 3:  Cost: 0.000292 Valid Accuracy: 0.656\n",
      "Epoch 15, CIFAR-10 Batch 4:  Cost: 0.00273  Valid Accuracy: 0.64 \n",
      "Epoch 15, CIFAR-10 Batch 5:  Cost: 0.00341  Valid Accuracy: 0.649\n",
      "Epoch 16, CIFAR-10 Batch 1:  Cost: 0.00103  Valid Accuracy: 0.654\n",
      "Epoch 16, CIFAR-10 Batch 2:  Cost: 0.000411 Valid Accuracy: 0.663\n",
      "Epoch 16, CIFAR-10 Batch 3:  Cost: 0.000154 Valid Accuracy: 0.655\n",
      "Epoch 16, CIFAR-10 Batch 4:  Cost: 0.00171  Valid Accuracy: 0.657\n",
      "Epoch 16, CIFAR-10 Batch 5:  Cost: 0.000625 Valid Accuracy: 0.661\n",
      "Epoch 17, CIFAR-10 Batch 1:  Cost: 0.00132  Valid Accuracy: 0.657\n",
      "Epoch 17, CIFAR-10 Batch 2:  Cost: 0.0066   Valid Accuracy: 0.652\n",
      "Epoch 17, CIFAR-10 Batch 3:  Cost: 0.000209 Valid Accuracy: 0.659\n",
      "Epoch 17, CIFAR-10 Batch 4:  Cost: 0.000555 Valid Accuracy: 0.654\n",
      "Epoch 17, CIFAR-10 Batch 5:  Cost: 0.000166 Valid Accuracy: 0.659\n",
      "Epoch 18, CIFAR-10 Batch 1:  Cost: 0.000568 Valid Accuracy: 0.659\n",
      "Epoch 18, CIFAR-10 Batch 2:  Cost: 0.000561 Valid Accuracy: 0.655\n",
      "Epoch 18, CIFAR-10 Batch 3:  Cost: 0.0005   Valid Accuracy: 0.649\n",
      "Epoch 18, CIFAR-10 Batch 4:  Cost: 0.00162  Valid Accuracy: 0.634\n",
      "Epoch 18, CIFAR-10 Batch 5:  Cost: 0.000681 Valid Accuracy: 0.659\n",
      "Epoch 19, CIFAR-10 Batch 1:  Cost: 0.000156 Valid Accuracy: 0.66 \n",
      "Epoch 19, CIFAR-10 Batch 2:  Cost: 0.000599 Valid Accuracy: 0.666\n",
      "Epoch 19, CIFAR-10 Batch 3:  Cost: 0.000204 Valid Accuracy: 0.661\n",
      "Epoch 19, CIFAR-10 Batch 4:  Cost: 0.000629 Valid Accuracy: 0.644\n",
      "Epoch 19, CIFAR-10 Batch 5:  Cost: 0.000216 Valid Accuracy: 0.665\n",
      "Epoch 20, CIFAR-10 Batch 1:  Cost: 0.000826 Valid Accuracy: 0.653\n",
      "Epoch 20, CIFAR-10 Batch 2:  Cost: 0.000254 Valid Accuracy: 0.67 \n",
      "Epoch 20, CIFAR-10 Batch 3:  Cost: 0.000546 Valid Accuracy: 0.664\n",
      "Epoch 20, CIFAR-10 Batch 4:  Cost: 0.00077  Valid Accuracy: 0.645\n",
      "Epoch 20, CIFAR-10 Batch 5:  Cost: 6.08e-05 Valid Accuracy: 0.666\n"
     ]
    }
   ],
   "source": [
    "\"\"\"\n",
    "DON'T MODIFY ANYTHING IN THIS CELL\n",
    "\"\"\"\n",
    "save_model_path = './image_classification'\n",
    "\n",
    "print('Training...')\n",
    "with tf.Session() as sess:\n",
    "    # Initializing the variables\n",
    "    sess.run(tf.global_variables_initializer())\n",
    "    \n",
    "    # Training cycle\n",
    "    for epoch in range(epochs):\n",
    "        # Loop over all batches\n",
    "        n_batches = 5\n",
    "        for batch_i in range(1, n_batches + 1):\n",
    "            for batch_features, batch_labels in helper.load_preprocess_training_batch(batch_i, batch_size):\n",
    "                train_neural_network(sess, optimizer, keep_probability, batch_features, batch_labels)\n",
    "            print('Epoch {:>2}, CIFAR-10 Batch {}:  '.format(epoch + 1, batch_i), end='')\n",
    "            print_stats(sess, batch_features, batch_labels, cost, accuracy)\n",
    "            \n",
    "    # Save Model\n",
    "    saver = tf.train.Saver()\n",
    "    save_path = saver.save(sess, save_model_path)"
   ]
  },
  {
   "cell_type": "markdown",
   "metadata": {
    "deletable": true,
    "editable": true
   },
   "source": [
    "# Checkpoint\n",
    "The model has been saved to disk.\n",
    "## Test Model\n",
    "Test your model against the test dataset.  This will be your final accuracy. You should have an accuracy greater than 50%. If you don't, keep tweaking the model architecture and parameters."
   ]
  },
  {
   "cell_type": "code",
   "execution_count": 37,
   "metadata": {
<<<<<<< HEAD
    "collapsed": true
=======
    "collapsed": false,
    "deletable": true,
    "editable": true
>>>>>>> 26b0fa917d59225de640b1dd0b1720f74e2830b9
   },
   "outputs": [
    {
     "name": "stdout",
     "output_type": "stream",
     "text": [
      "Testing Accuracy: 0.671875\n",
      "\n"
     ]
    },
    {
     "data": {
      "image/png": "iVBORw0KGgoAAAANSUhEUgAAAsIAAAJ/CAYAAAByRrVyAAAABHNCSVQICAgIfAhkiAAAAAlwSFlz\nAAAWJQAAFiUBSVIk8AAAIABJREFUeJzs3XmcY1WZ//HPt6p637uhafYGFEHFUVAREWjUUREV3JVR\nQWcclXFDxxEdlcZdRwXFUcdRBxcU3P2N26hoAy6IsoiyqIANNDRL0/veVfX8/jgnlVu3k1SqKrXm\n+3698kpy77nnnqSS1JOT55yjiMDMzMzMrN10jHUDzMzMzMzGggNhMzMzM2tLDoTNzMzMrC05EDYz\nMzOztuRA2MzMzMzakgNhMzMzM2tLDoTNzMzMrC05EDYzMzOztuRA2MzMzMzakgNhMzMzM2tLDoTN\nzMzMrC05EDYzMzOztuRA2MzMzMzakgNhMzMzM2tLDoTHmKQDJT1H0mskvU3S2ZJeJ+n5kh4tafZY\nt7EeSR2STpF0saRbJG2UFIXLd8e6jWbjjaSlpffJ8laUHa8kLSs9hjPGuk1mZhVdY92AdiRpIfAa\n4JXAgQMU75V0I3AF8APg0ojYPsJNHFB+DN8EThzrttjok3QhcPoAxbqB9cAa4BrSa/hrEbFhZFtn\nZmbWHPcIjzJJzwBuBN7LwEEwpL/Rw0mB8/eB541c6wblSwwiCHavUFvqAvYADgNOAz4N3CVpuSR/\nCZ9ASu/dC8e6PWZmreJ/RqNI0guArwKdpV0bgT8C9wA7gAXAAcDhjMMvK5IeB5xc2HQ7cC7we2BT\nYfvW0WyXTQizgHOA4yWdFBE7xrpBZmbWvhwIjxJJh5B6UYtB8J+Afwd+GBHdNY6ZDZwAPB94NjB3\nFJrajOeU7p8SEX8Yk5bYePEWUqpMURewF/AE4EzSl7uKE0k9xK8YldaZmZnV4EB49LwPmFa4/zPg\nWRGxrd4BEbGZlBf8A0mvA/6J1Gs81o4q3F7pINiANRGxssb2W4BfSfoEcBHpC13FGZI+ERHXjUYD\nJ6L8nGqs2zEcEbGCCf4YzGzyGnc/u09GkmYAzyps2gWc3igILouITRFxXkT8rOUNHLzFhdt3j1kr\nbMLIr/V/AP5S2Czg1WPTIjMzMwfCo+VIYEbh/q8jYiIHkMUp3XaNWStsQsnB8HmlzU8ai7aYmZmB\nUyNGy5LS/btG8+SS5gLHAfsCi0gD2u4FfhsRdwylyhY2ryUkHUxK2dgPmAqsBH4REfcNcNx+pBzW\n/UmPa3U+btUw2rIv8DDgYGB+3rwWuAP4TZtPH3Zp6f4hkjojomcwlUh6OPBQYG/SALyVEfHVJo6b\nBjyeNGPLYqCH9F64PiKuH0wb6tT/YOCxwD7AdmAVcFVEjOp7vka7DgUeCexJek1uJb3W/wTcGBG9\nY9i8AUnaH3gcKed8Dun9dDdwRUSsb/G5DiZ1XuxPGtNxL/CriLhtGHU+hPT8LyF1JHQDm4E7gb8C\nN0dEDLPpZjYUEeHLCF+AFwFRuPxolM77aOBHwM7S+YuX60lTW6lBPcsaHF/vsiIfu3Kox5bacGGx\nTGH7CcAvgN4a9ewEPgXMrlHfQ4Ef1jmuF/gWsG+Tz3NHbsengVsHeGw9pPzwE5us+4ul4z87iL//\nB0rHfr/R33mQr60LS3Wf0eRxM2o8J4trlCu+blYUtr+cFLyV61g/wHkfDnwD2NLgb3Mn8EZgyhCe\nj2OB39apt5uU639ULru0tH95g3qbLlvj2PnAu0lfwBq9Ju8HvgA8ZoC/cVOXJj4/mnqt5GNfAFzX\n4Hy7gJ8CjxtEnSsKx68sbD+a9EWt1mdCAFcCxwziPFOAN5Py5Ad63taTPnP+vhXvT1988aX5y5g3\noB0uwBNLH3qbgPkjeD4BH27wgV7rsgJYUKe+8j+ypurLx64c6rGlNvT7p5y3vb7Jx/g7CsEwadaL\nrU0ctxI4oInn+xVDeIwBfBToHKDuWcBNpeNe1ESb/r703KwCFrXwNXZhqU1nNHnc9BrPw541yhVf\nNytIA02/3uC5rBkIk76k/AfpC0izf5c/0OSXoHyOtzf5OtxJypNeWtq+vEHdTZctHfdsYN0gX4/X\nDfA3burSxOfHgK8V0gw5Pxvkuc8HOpqoe0XhmJV52+to3GFQ/Bu+oIlz7ElaRGawz993W/Ue9cUX\nX5q7ODVidFxN+kdcmTptNvAlSadFmhmi1f4b+MfStp2kHo27ST1FjyYtdlBxAnC5pOMjYt0ItKml\n8pzMH893g9RrdCvpS8AjgUMKxR8NXAC8XNKJwCVU04JuzpedpHmbjygcdyCpR3aghUPKufbbgBtI\nPz1vJPWCHgA8gpS2UfEmUo/W2fUqjogtkl5I6m2cnjd/VtLvI+KWWsdIWgJ8mWoKSw9wWkQ8MMDj\nGA37le4HKWAbyPmkaQQrx1xLNVg+GDiofICkTtLf+rmlXVtJ78nVpPfkIcDfUX2+HgH8WtJjI+Le\nRo2S9EbSjDBFPaS/152kn/EfRUrhmEIKLsvvzZbKbfoYu6cw3UP6BWgNMJP0tziC/rPZjDlJc4DL\nSO/jonXAVfl6b1KqRLHtbyB9pr1kkOf7B+AThU1/IvXi7iC9No6i+lxOAS6UdG1E/LVOfQK+Tfq7\nF91Lmi9+DemL07xc/4NwmqLZ2BnrSLxdLqSfpcvf/u8mLS5wBK37yfr00jl6SUHE/FK5LtI/5A2l\n8l+rUed0Us9U5bKqUP7K0r7KZUk+dr98v5we8q91jus7ttSGC0vHV3q7fgAcUqP8C0gBafF5OCY/\n5wH8GnhkjeOWAQ+UzvX0AZ7zyrR2H8jnqNkrRfoC8lb6/zzfCxzdxN/11aU2/R6YWqNcB+mn4mLZ\nd47A67n89zijyeP+uXTcLXXKrSyU2VS4/WVgvxrll9bY9r7Sue4lpVbUet4OYff36A8HeCxHsHsv\n4lfLr9/8N3kBcF8us7Z0zPIG51jabNlc/qns3vt9GSkverfPGFIg+UzSz/JXl/btQfU9Wazvm9R/\n79b6OywbzGsF+J9S+Y3AqyilrJACyY+ye2/8qwaof0Wh7GaqnxPfAR5Uo/zhpF8Jiue4pEH9J5fK\n/pU0KLTmZzzpV59TgIuBb7T6veqLL740vox5A9rlQupx2l76gCxeHiAFde8k/aw9awjnmM3uP4ee\nNcAxR7N73mTDPDXq5G8OcMyg/hnWOP7CGs/ZRTT4KZS0LHWt4PlnwLQGxz2j2X96ufySRvXVKH9M\n6bXQsP7CcZeU2vXxGmX+vVTm542eo2G8nst/jwH/nqQvVOU0j5o5z9ROqfngINp3NP0Dwj9T4wtW\n6ZgOds/JPqlB+V+Uyv7nAPU/jN2D4JYFwqRe3ntL5T/Z7N8f2KvBvmKdFw7ytdL0e580cLVYditw\n7AD1v7Z0zGbqpHnl8itq/A0+SeNxEnvR/7N1R71zkMYKVMrtAg4axHM1fTDPrS+++DL8i6dPGyWR\nFp14KSkAqmUh8HTS4JafAOskXSHpVXnWh2acTnWWAoAfR0R5uqpyu34LvKu0+Q1Nnm8s3U3q+Wk0\n2v3zpB7vispo+ZdGg6V9I+L7pMCpYlmjhkTEPY3qq1H+N8B/FjadmmczGMgrSekfFa+XdErljqQn\nkJa6rrgf+IcBnqNRIWk6qTf3sNKu/2qyiutIQX6zzqaastINnBoRDRejyc/Tq+g/q8sba5WV9FD6\nvy7+Apw1QP03AP/WsNXD80r6z/H9C+B1zf79Y4A0kFFS/uw5NyJ+1eiAiPgkqTe/YhaDSz/5E6nD\nIBqc415SgFsxlZSaUUtxBcXrIuJvzTYkIur9fzCzEeJAeBRFxDdIP1H+soniU0i9I58BbpN0Zs49\na+QfSvfPabJpnyAFTRVPl7SwyWPHymdjgPzqiNgJlP+JXhwRq5uo/+eF24tz3m0rfa9weyq750Pu\nJiI2klJMdhY2/4+kA/Lf62tU89ADeFmTj7UV9pC0tHR5kKTHS/o34EbgeaVjLoqIq5us/7xocoq1\nPH1dcQGbr0bETc0cmwORzxY2nShpZo2i5TzUD+fX20C+QEotGgmvLN1vGNyNN5JmAacWNq0jpXU1\n4x2l+4PJEz4vIpqZD/2Hpft/18Qxew6iHWY2BhwIj7KIuDYijgOOJ/VYNpznNltE6kG8WNLUWgVy\nj+KRhU23RcRVTbZpF2lqqb7qqN/bMV78pMlyt5bu/7TJ48oD0Qb9D03JHEn7lINEdh/IVO4prSki\nfk/KM65YQAqAv0j/gWj/ERE/Hmybh+E/gL+VLn8lfRH5ELsPZvsVuwdujXx/4CJ9ltH/s+1bgzgW\n4PLC7SnAY2qUOaZwuzLd3oBy7+w3B9meAUnak5R6UfG7mHhLnz+G/oPGvtPsLy35sd5Y2HREHnTX\njGbfJzeX7tf7TCj+mnSgpH9psn4zGwMeqTpGIuIK4Aro+5n18aTZDR5D6h2s9SXlBaQRx7U+WB9O\n/xHUvx1kk64EzizcP4rde0DGk/I/pXo2lu7/uWapgY8bMD0lz1LwZNLsBo8hBbc1v7jUsKDJckTE\n+ZKWkQbYQHrtFF3J4NIIRtM20mwf72qyFw7gjohYO4hzHFu6vy5/+WhWZ+n+waQBZ0XFL51/jcEt\n6vC7QZRt1tGl+1eMwDlG2lGl+0P5DHtovt1B+hwd6HnYGM2v8lleCKfeZ8LF9E+T+aSkU0mDAH8U\nE2BWHrN24kB4HIiIG0m9GZ8DkDSf9BPhWaSpnIrOlPSFGj8pl3snak7t00A5QBzvP+k1uzpbd4uO\nm9KosKRjSPmuRzQq10CzeeAVLyflzR5Q2r4eeHFElNs/FnpIz/cDpOnOriClKQwmqIX+aTvNKE/R\ndnnNUs3rlyaUf30p/r3KvzoMpOa0d8NUTt1pKhVknBmLz7CmV3mMiF2l7LSanwkRcZWkT9G/Y+HJ\n+dIr6Y+k9LjLSYONm/lV0MxGiFMjxqGIWB8RF5J6NN5do8jramybX7pf7tEcSPkfQtM9lGNhGAPA\nWj5wTNLTSAOThhoEwyDfi7lX6f01dr05IlYOox1D9fKIUOnSFRGLIuLQiHhhRHxyCEEwpFkABqPV\n+e2zS/fL743hvtdaYVHpfkuXHR4lY/EZNlIDSV9L+lVma2l7Bym3+F9Is8CslvQLSc9rYgyImY0A\nB8LjWCTnkD4wi57czOGDPJ0/hIcgD1L7Cv3TUlYC7wFOAh5C+gc/vRgkUmMBiEGedxFpqr2yl0hq\n9/d1w977IRjovTEe32sTZpBcA+PxeW1K/ux+Pymt5q3Ab9j9VyZI/4OXkcZoXCZp71FrpJkBTo2Y\nKC4AXli4v6+kGRGxrbCt3AM0b5DnKP807zy25pxJ/964i4HTm5hBoNmBPLvJPUdfBPatsftE0gj6\nWr8ktItir3M3MKPFqSLl98Zw32utUO5pL/euTgST7jMsT7v2YeDDkmYDjwWOI71Pj6X//+DjgB/n\nFQ2bno7RzIan3XuOJopao7/LP/uV8ygfNMhzHDpAfVbbyYXbG4B/anIareFMx3ZW6bxX0X/2kXdJ\nOm4Y9U90xflwuxhm73tZDlKKP9sfUq9sHYN9bzajPEfy4SNwjpE2qT/DImJzRPw8Is6NiGWkZaLf\nQRpAWvEI4BVj0T6zduVAeGKolcdWzp/7E/3nly2PIh9Iebq0Zud3bdZk+Km2luI/619GxJYmjxvS\n9HSSHg18sLBpHWmWipdRfY47ga/m9Il2dGXp/pNG4BzXFG4/OA9wbVat6diG60r6v8cm4heh8mfO\ncD7DekmDScetiFgTEe9j92kEnzkW7TFrVw6EJ4aHlO5vLi8mkXupiv9IDpFUno6oJkldpGCqrzoG\nP3XRQMo/9TU7rdh4V/z5tqnBPTm14cWDPVFeYfAS+ufAviIi7oiI/yPN5VuxH2m6pnb0s9L9M0bg\nHL8p3O4AntvMQTl/+/kDFhykiLgfuKGw6bGShjN4s6z4/h2p9+7v6J9H++x686aX5cdanEf5TxGx\nqZWNG0GX0H/F0aVj1A6ztuRAeBRI2kvSXsOoovxT2Yo65b5aul9eOrme19J/adYfRcQDTR7brPKI\n7lav1DZWinmN5Z9m63kpQ/vp+rOkwTcVF0TEdwv3/53+vaHPlDQRlstuqYi4Bbi0sOloSeVVF4fr\notL9f5PUzCC9V1A7t7sVPlu6/7EWzkRQfP+OyHs3/5pSXHFxIbXnTK/lPaX7X2lJo0ZBzl8vzi7R\nTGqVmbWIA+HRcThpmeQPSlo8YOkCSc8FXlPaXJ5FouKL9P+H9SxJZ9YpW6n/Mez+T+QTg2ljk24D\nigsoPHEEzjEW/li4fZSkExoVlvRY0uDHQZH0z/QfMHkt8JZimfwP9cX0D84/LKm4+EO7WF66/9+S\n/n4wFUjaW9LTa+2LiBvov8jGocB5A9T3UNLAqZHyefrnRz8ZOL/ZYHiAL+vFOXofkwd+jYTyZ897\n8mdUXZJeQ3VxGYAtpOdiTEh6TV7pr9nyJ9F/yr9mF/0xsxZwIDx6ZpKm0Vkl6TuSntvow1LS4ZI+\nC3yd/itdXcPuPb8A5J8C31TafIGk/5DUbwS2pC5JLyctOVz8p/b1/DN7S+XUjeKSzydI+pykJ0l6\ncGkJ4onUW1xeLvdbkp5VLiRphqSzSD2Vc0krBDZF0sOB8wubNgMvrDWyPM8hXMw5nApcMojlZieF\niPgl/edZnkEakf8pSQ+ud5yk+ZJeIOkS0jR4L2twmtfR/8vdv0i6qPz6ldQh6fmkX3IWMEJz/EbE\nVlJ7i2MKXg9cmhd82Y2kaZKeIembNF5JsrgoyWzgB5KenT+nysuHD+cxXA58ubBpFvBTSf9Y7nGX\nNFfSh4FPlqp5yxDnq26VtwJ35NfCqfXee/kz+GWkJdKLJkxvttlk4OnTRt8U0qpxpwJIugW4gxQY\n9ZL+UT4U2L/GsauA5zdaTCIiviDpeOD0vKkD+FfgdZJ+A6wmTa30GGCP0uE3sXvvcytdQP/lb/8x\nX8ouI82tORF8gTSLQyW4WgR8T9LtpC8t20k/JR9N+jIEaZT4a0hzhzYkaSbpF4AZhc2vjoi6q25F\nxDclfQZ4dd70IODTwEuafEyTxTtJK+9VHncH6Xl/Tf773EgabDiF9J54MIPIz4yIP0p6K/CxwubT\ngBdKuhK4kxQ0HkWaIQBSDuxZjFD+dkT8RNK/Ah+lOq/uicCvJa0Griet9DeDlEf+CKpzYNeanabi\nc8Cbgen5/vH5Ustw0zFeS1p0orKq5rx8/g9Juor0RWIJcEyhPRUXR8Snh3n+VphOei2cBoSkvwB/\nozql297Ao9h9irjvRsT/jlorzcyB8ChZSwp0y4EnpCClmWmCfga8sslVw16ez/lGqv+UptE4uPwl\ncMpI9qRExCWSjiYFApNCROzIPcA/pxrsAByYL2WbSYOlbm7yFBeQvhhV/E9ElPNTazmL9KWjMmDq\nHyRdGhFtM4Auf2F8qaQ/AO+l/6In9f4+ZQ3noo2I8/KXlfdQfa910v8LX0U36YvfcJd8bii36S5S\n8Fjsjdyb/q/RwdS5UtIZpAB+xgDFhyUiNuYUo2+TgviKRaRFaur5T1IP+Hgj0oDn8qDnskuodmCY\n2ShxasQoiIjrST0YTyT1Hv0e6Gni0O2kfwbPjIi/b3bp3Lyq0ZtI0wn9hNorGlXcQPrwPX40fk7M\n7Tqa9E/rd6TeqQk9OCQibgaOJP2kWe+53gx8CXhERPy4mXolvZj+AyVvpvby2rXatJ2UU1wchHOB\npMOaOX4yiYiPkAYZns/u8+3W8mfSF5BjImLAX0jyFFjH0z/1p6iX9D48NiK+1FSjhykivk6aP/kj\n9M8bruVe0kC7hkFYRFxCGu9wLinNYzX958BtmYhYT5r27jRSL3Y9PaR0o2Mj4rXDWHq9lU4hPUdX\nMvBnWy+p/SdHxIu8kIbZ6FPEZJ3edXzLvUiH5stiqj03G0m9uTcAN7ZiRaycH3w8abT6QlJQdi/w\n22aDa2tOnrv3eNJP7NNJz/NdwBU5h9PGWB609gjSLzTzSV841wO3AjdExH0NDh+o7geTvoDuneu9\nC7gqIu4cbruH0SaRUg0eBuxJStfYnNt2A3BTjPN/BJIOID2ve5E+K9cCd5PeV2O+glw9kqYDDyf9\n6reE9NzvIg1qvgW4Zozzmc3angNhMzMzM2tLTo0wMzMzs7bkQNjMzMzM2pIDYTMzMzNrSw6EzczM\nzKwtORA2MzMzs7bkQNjMzMzM2pIDYTMzMzNrSw6EzczMzKwtORA2MzMzs7bkQNjMzMzM2pIDYTMz\nMzNrSw6EzczMzKwtORA2MzMzs7bkQNjMzMzM2pIDYTMzMzNrSw6EzczMzKwtORA2MzMzs7bkQNjM\nzMzM2pIDYTMzMzNrSw6EzczMzKwtORA2MzMzs7bkQNjMzMzM2pIDYTMzMzNrSw6EJyFJKySFpDOG\ncOwZ+dgVrazXzMzMbLzpGusGjCRJbwTmAxdGxMoxbo6ZmZmZjSOTOhAG3ggcCKwAVo5pSyaODcCf\ngTvGuiFmZmZmI2myB8I2SBHxHeA7Y90OMzMzs5HmHGEzMzMza0ujFghLWijpdEnfknSzpE2Stki6\nUdLHJO1T45hleXDWygb17ja4S9JySUFKiwD4RS4TDQaCHSLpvyTdJmm7pHWSLpf0T5I665y7b/CY\npLmSPizpVknbcj3vljS9UP5Jkv5P0pr82C+XdNwAz9ug21U6foGk8wrHr5L0WUl7N/t8NktSh6SX\nSvqppPsl7ZR0t6RLJB092PrMzMzMRtJopka8HXhz4f5GYAZweL68RNKTI+L6FpxrM3AvsCcp2F8H\n7CzsX1ssLOkZwDeAStC6AZgFHJcvL5R0akRsqXO+BcBvgcOALUAncBDwTuCRwLMknQl8Eojcvpm5\n7p9JemJE/KpcaQvatQj4HXAIsA3oBvYFXgmcKumEiLipzrGDImkO8G3gyXlTAJuAvYEXAM+T9IaI\n+GQrzmdmZmY2XKOZGnEX8EHgSGBORMwDpgGPBv6PFLR+VZKGe6KI+EhELAHuzJueExFLCpfnVMpK\nOgS4mBRsXgYcFhHzgTnAq4AdpODu4w1OeQ4g4LiImA3MJgWb3cAzJb0TOD8//kX5sS8FfgNMBc4r\nV9iidr0zl38mMDu3bRnwN9Lz/Q1JUxocPxhfyu25HjgZmJUf5wLSl6Bu4OOSjm3R+czMzMyGZdQC\n4Yg4LyLeFhHXRsTmvK0nIq4GTgFuBB4GHD9abcreTuplvRV4ekT8ObdtR0R8Fnh9LvcKSQ+qU8cs\n4BkR8ct87M6I+BwpOAR4N/CViHh7RKzPZW4HXkzqOX2MpANGoF1zgedFxPcjojcffxlwEqmH/GHA\nCwd4fgYk6cnAqaSZOU6MiB9GxLZ8vvUR8QFSUN4BvG245zMzMzNrhXExWC4idgA/zXdHrccw9z4/\nN989LyK21ij2OVJvtoDn1anqGxFxS43tPyvc/kB5Zw6GK8c9fATadUVEXFHjvH8Gvpnv1jt2ME7P\n1xdGxNo6Zb6ar09sJrfZzMzMbKSNaiAs6TBJn5R0vaSNknorA9iAN+Riuw2aG0EHA/Py7V/UKpB7\nUlfku0fWqeePdbbfl6+3Uw14y+7N1wtGoF0r6myHlG7R6NjBeHy+PkvSPbUuwO9zmZmk3GUzMzOz\nMTVqg+UkvYiUKlDJSe0lDf7ake/PJqUCzBqtNpHyZCvualBuVY3yRavrbO/J1/dGRAxQppir26p2\nNTq2sq/esYNRmYFiHtUAvpGZLTinmZmZ2bCMSo+wpD2B/yYFe5eQBshNj4gFlQFsVAeMDXuw3BBN\nG6PzDmSk2tXK57nyOjolItTEZWULz21mZmY2JKOVGnESqcf3RuC0iLg6InaVyuxV47jufD29xr6K\nZnog67m/cPvAuqVgvxrlR1Kr2tUozaTSi9uKx1RJ73hoC+oyMzMzGxWjFQhXArbrK7MXFOXBYU+s\ncdz6fL1Y0tQ6dT+mwXkr56rX+3lb4Rwn1iogqYM05RjANQ3O1UqtatcJDc5R2deKx/SbfP3chqXM\nzMzMxpHRCoQ35OuH15kn+JWkRR/K/kLKIRZpLtx+8rRhjYKvjfl6fq2dOW/32/nuGyTVyl39J9Ii\nFEF1poUR1cJ2nSDp8eWNkh5MdbaIbwyzuQAX5utHS3pZo4KSFjTab2ZmZjZaRisQ/hkpYHs48AlJ\n8wHyssRvAf4TeKB8UETsBL6X754n6Ql5Gd8OSU8hTbm2rcF5b8jXLy4udVzyftJqcPsAP5D0kNy2\naZJeCXwil/t8nSnSRkor2rUR+Lakp1e+gOQlnX9Eyj2+Afj6cBsaET+mGrh/QdK5xSWc8zLPp0j6\nHvCx4Z7PzMzMrBVGJRDO89aen+++FlgnaS1pqeMPA5cCn6lz+NtIQfL+wBWkZXu3kFajWw8sb3Dq\nz+fr5wMbJN0paaWkiwttu5W0sMV2UqrBzZLW5fN8lhQwXgq8sflHPHwtatd7SMs5/wDYImkTcDmp\n9/1+4AU1crWH6mXAd0nLS78LuFvSekkbSH/n7wLPatG5zMzMzIZtNFeWexPwz8C1pHSHLuA6UiB3\nMtWBceXjbgOOBr5GCt46SdOGvY+0+MbGWsflY38OPJs0Z+42UirBgcCSUrn/BY4gzWyxkjS911bg\nl7nNT42ILYN+0MPUgnY9QMqhPp80oG0qcHeu75ERcWML27olIp4NPIPUO3wXMCOf8xbSghrPA85s\n1TnNzMzMhkP1p7c1MzMzM5u8xsUSy2ZmZmZmo82BsJmZmZm1JQfCZmZmZtaWHAibmZmZWVtyIGxm\nZmZmbcmBsJmZmZm1JQfCZmZmZtaWHAibmZmZWVtyIGxmZmZmbalrrBtgZjYZSfobMJe0PLqZmQ3e\nUmBjRBw0UieYtIHwueeeGwBeQnpgy5cv11i3wWwSmjtjxoyFhx9++MKxboiZ2UR00003sW3bthE9\nx6QNhDs6UtZHb2/vGLfEzIZCUgCXRcSyJssvA34BnBsRywvbVwAnRMRof+Fbefjhhy+8+uqrR/m0\nZmaTw1FHHcU111yzciTP4Rxhs0lCUuSgz8zMzJowaXuEzaztXAUcDqwZ64ZU/OmuDSw9+wdj3Qwz\nszGx8oMH05wjAAAgAElEQVQnj3UTBjRpA+HxnhsspV9pG7WzUmagcmYGEbEVuHms22FmZhOHUyPM\nRomkMyR9S9JtkrZJ2ijpV5JeUqPsSkkr69SzPKdBLCvUW/mmdELeV7ksLx37AkmXS9qQ2/BHSW+T\nNK1eGyTNlnSepDvzMddJOjWX6ZL0dkl/lbRd0q2SXlun3R2SXi3pd5I2S9qSb79GUt3PIkn7SPqy\npPvy+a+WdFqNcstqPeZGJD1V0g8lrZG0I7f/PyTNb7YOMzObuCZtj/B45x7etvRp4EbgcmA1sAh4\nOvBlSQ+JiHcOsd7rgHOBc4DbgQsL+1ZUbkh6P/A2UurAV4HNwEnA+4GnSvr7iNhVqnsK8FNgIfA9\nYCrwYuBbkp4CnAkcDfwI2AE8H7hA0v0RcUmpri8DpwF3Ap8DAng28CngCcA/1HhsC4BfA+uB/wHm\nAy8ALpK0b0T8x4DPTh2S3kV63tYC3wfuAx4B/CvwdEnHRMTGodZvZmbjnwNhs9Hz8Ii4tbhB0lRS\nEHm2pM9ExF2DrTQirgOuk3QOsLI4Y0LhPMeQguA7gcdGxD15+9uA7wDPAN5CCoqL9gGuAZZFxI58\nzJdJwfw3gFvz41qf932MlJ5wNtAXCEt6MSkIvhY4PiI25+3vAC4DTpP0g4j4aun8j8jneVFE9OZj\nPghcDbxP0rci4rbBPWMg6URSEPwb4OmV9ud9Z5CC7nOBs5qoq960EIcNtl1mZja6nBoxiiJit0sj\nvb29fReb+MpBcN62E/hP0pfSJ43g6V+Rr99bCYLz+buBNwO9wD/VOfaNlSA4H3MF8DdSb+1bi0Fk\nDkp/BRwhqbPG+c+uBMG5/BbgrflurfP35HP0Fo75G/AJUm/1S+s+4sZen69fWWx/rv9CUi97rR5q\nMzObRNwjbDZKJB1ACvqeBBwAzCgV2XcET39kvv55eUdE/EXSKuAgSfNLgeH6WgE8cDdwEKlntuwu\noBNYkm9Xzt9LIVWj4DJSwPuoGvvuyIFv2QpSKkitY5pxDLALeL6k59fYPxXYU9KiiHigUUURcVSt\n7bmn+Mha+8zMbHxwIGw2CiQdTJreawFwBfATYAMpAFwKnA7sNmCthebl69V19q8mBefzSPm4FRvq\nlO8GiIha+7vz9ZTS+dfmHvB+IqJb0hpgcY267q1z/kqv9rw6+weyiPT5d84A5WYDDQNhMzObuBwI\nt1hxyrPi7fpit9vVjAmvfDyJvIkUfL08//TeJ+fPnl4q30vqlaxlKDMaVALWJaS83rK9S+VabQOw\nUNKU8oA8SV3AHkCtgWl71alvSaHeobanIyK8/LGZWRtzIGw2Oh6Ur79VY98JNbatAx5RK3AEHl3n\nHL2klIRariX9TL+MUiAs6UHAfsDfyvmyLXQtKSXkeODS0r7jSe2+psZxB0haGhErS9uXFeodiiuB\nkyU9LCJuGGIdA3r4vvO4egJMKG9m1q48WG5IonBJJCGJzs6O6qULOruga4romiI6u6qXjo6goyNQ\nR2/fpbKtoxM6OgH19F2kyBft1tM8mAF4NmZW5utlxY2SnkrtQWJXkb6ovrxU/gzg2DrneADYv86+\nL+Trd0jas1BfJ/AR0mfB5+s1vgUq5/+ApJmF888EPpjv1jp/J/Ch4jzDkg4iDXbrBr4yxPacl6//\nW9I+5Z2SZkl63BDrNjOzCcI9wmaj41OkoPYbkr5FGkT2cOBpwNeBF5bKX5DLf1rSk0jTnv0d8HjS\nnLfPqHGOS4EXSfpf0iC2buDyiLg8In4t6cPAvwF/kvRNYAtpHuGHA78Ehjwn70Ai4quSTiHNAXyD\npO+SvkmeShp09/WIuKjGodeT5im+WtJPSDnBLySlh/xbnYF8zbTnUklnAx8A/irph6SZMGYDB5J6\n6X9J+vuYmdkk5UDYbBRExPV57tr3khbR6AL+ADyHNDjthaXyN0p6Mmle32eSgtorSLMdPIfagfAb\nSMHlk/I5Okhz4V6e63yrpGuB1wIvIw1muxV4B/DRWgPZWuzFpBkiXgG8Km+7CfgoabGRWtaRgvUP\nk74YzCUtSvKRGnMOD0pEfEjSr0i9y08ATiHlDt8FfJa06IiZmU1imqw/pb/73e8OGPkV3Do60i+2\nnZ0pNbOrq/rdYtq0rn770pigpLMjp3KqOkfw9h3bAOjelVJCi/MHd3f35m3pfvFx9fT09GtTc4P0\nqs455xyPyjNrMUlXH3nkkUdefXW99TbMzKyRo446imuuueaaetNUtoJzhM3MzMysLTk1YlBSx2ln\nZ/X7Q1dX6tmdPj2N/9ljj75xSMyeMy+XT09zT0+147XSI1ysq7J33fp1ANy35r7qvp3b0408gUB3\nd3UigUoPcLln2MzMzMzqc4+wmZmZmbWltu4RLubZVnpVK9fF1OJKym01H7jasztlSlo864D9DwJg\n8T579+3r6Ujl1q1L6wRsyTnAAN09qYd31/buvm0duUP31rvvAGDNunXVRuzcAcBeC1LP87y51dV5\nK73DHR2VnuFqbnExz9jMzMzMqtwjbGZmZmZtyYGwmZmZmbWltkyNqDWlmpS25eyHvjQIAOXbldSD\nKV1T+/YdcMAh6fqglBrRW/hqsXn7VgC270hpDbt6qmkQu3I6w4YtW/q2rV61GoDrb/kzANNnVNMf\neralOtatTX+yQw85oG/fvHnT0rlJZTqi2ojKY52s0+SZmZmZDZV7hM3MzMysLbVlj3BlorJir2/X\nlMrUaLlEYVGK8gIVc+fO77u9ZK/9AdieF8HY0Vud1mzrtm39jp8ytdqTvHHzpnS9cWPfti25d3jR\nvFT//fff37dvZx4s98D2NMhu8eLqoLyDD34IAJs2p+nWdm6t9jJvz+XdI2xmZmbWn3uEzczMzKwt\ntWWPcGURi8piGAAdHanHdOqU9JRMmTKtb1/kHuSpU6YDMHvWwr59N9xwY7oxNR23YPEeffu25p7Z\n9es3ALBp6/bqvtxbvG1jofd2W8op3n/JXgDcd/ddffum5vzkA5YeCMAhD3pQ375tOfX4vgfy9Gy7\nNvftmzUz9UL37kzTqNWaMs7MzMysHblH2MzMzMzakgNhMzMzM2tLbZUa0dGRUiG68qOeNn1K375F\nC/bK13sCMGPmrL59EcrHpfJTp07v27drrzQ4LsipB4VV57Z2pnKxLS0Zt2PLjr59U6anFeKmqdqG\ntQ+sB2D9+jSA7tBDD+3bVzln5fqmv/6lb99dOYVi3Zo1AOy/ZF7fvkc94jDMzMzMbHfuETaztiNp\nqaSQdOFYt8XMzMbOpO8RLg4I61sQY2rqhT34oIf07dtnSVoQY/rUGZUD+/YFeVGK3jzQTNXvD52z\nO3Lx1Ou7s7enb9/M6XNynan3d9bs6rRrD6xdl8rvWNu3bcb02QD0Rhr9tmVzdXDdPZvS1Gjb8yC7\ntWvX9O3bumVzLp8G3u29x8zq48cD4mxsSFoK/A34YkScMaaNMTMzq8E9wmZmZmbWlhwIm5mZmVlb\nmsSpEZWUgN7CtpTasPdeaS7e/fY+qG9PZ543uJLaoEL6Q29l7t1IdXUVvj7s7Enlt+aV3zZs2da3\nb819Ke3h/jUprWHVqlV9+1bfvRqAjRvX923bmleW27lja76upkZUzl2ZA7m3kIIR+dwzp6U/p6L6\nmIVXlLPRJ2k5cE6+e7qk0wu7Xw6sBH4BnAv8MJc9BlgAHBQRKyUFcFlELKtR/4XA6ZWypX2PBd4M\nPAHYA1gL/BH4XER8fYB2dwDnA68DvgOcFhHbGx1jZmYT1yQOhM1sDK0A5gNvAP4AfLew77q8D1Lw\n+zbgl8AXSIHrzqGeVNIrgU8DPcD/A/4KLAYeDZwJ1A2EJU0HvgI8F/hP4PUR0VuvfOG4q+vs8pQt\nZmbj3KQPhKPQIzo1D5LbY499ANi2vdqr2r11EwA9+f9eb+HfX2dnZ77OdRb+N27amI5bsyFNeXbf\n2o19+9bd/wAAK1feAsDq1Xf27du6JfX69uyq/s+PfFJRua62vbIiXHdu8q7u7r59HXmFvKV51bkF\n8+cWnwCzURcRKyStJAXC10XE8uJ+ScvyzacAr46I/xruOSU9FPgUsBE4LiJuKO3fr8GxC4HvAccC\nZ0fEh4bbHjMzG/8mfSBsZuPada0IgrPXkD7T3lMOggEiYtXuh4CkA4EfA4cAL42IiwZz0og4qk69\nVwNHDqYuMzMbXZM+EC5On9aTe1xvW7kSgJmzqj2nXZ3pqZgyZWq/a4Bd3anXdtv2lMMbhRnJ1q1L\necAPrN0AwD33VadDu+NvqSf4jtvTdSX3F2DG9LxARs5NBujZlRbn6JvyrHCeSo9wpXe6o6MwhVve\nNnvW7Py4qouBFB+/2Th0VQvrely+/tEgjnkI8BtgFnBSRFzawvaYmdk451kjzGws3dPCuip5x3cN\n4phDgb2B24BrWtgWMzObABwIm9lYapTFHtT/1Wp+jW2VKVj2HcT5/xd4O/BI4FJJewziWDMzm+Am\ncWpE+v9aTAzYsT3NgnT1Lb9JG1R9+FO7UorCzBkpvWD2vGraxNTpabU5KaUg7Oje0bfvgQfSCm8b\nN6ZBcvfef3/fvpW3/RmA+fNTnVMXzO7bt2ZNOq63ME1bZYq0yGkPxYF+ldXsZs1J7dq6dUvfro5K\nakTeNyO3F6C7tzqoLj0Gp0rYqKmMRu0c4vHrgP3LG5XeiI+sUf5K0uwQJwE3N3uSiPiApG3AecAv\nJD05Iu4dWpPNzGwicY+wmY2UdaRvpAcM8firgAMkPaW0/R3AgTXKfxroBt6ZZ5Dop9GsERFxPmmw\n3cOAyyTtM8Q2m5nZBDKJe4SzQqdqR+4N3bo59d5u3Vrt2a30lFbWzlBntee0ozMPaIs0gG7Hzuqi\nGZWe2cidX+vXraueujcNspuTB6/NnDmzb9+mTZsB6OmuNrAySK4nz86mjuqfZ/bsWZWGpvOsr55n\nztw5APT2Rn6c1e83u7p35VtD7ZQzG5qI2Czpt8Bxki4C/kJ1ft9mfAR4KvA9SZeQFsZ4PHAQaZ7i\nZaXz3SjpTOAzwLWSvkeaR3gRqad4E3Big/Z+RtJ24PPA5ZKeGBF3NNlWMzObgNwjbGYj6aXAD4Cn\nkVaPew9NTimWZ3A4FbgBeBFpJbmVwGOB2+sc89+kFeW+TwqU3wI8C1hDWiRjoHNeCLyE1ON8uaSD\nm2mrmZlNTJO+R7gy7RhAV154Yvv21BN899139+2bnXtVp85I05p19hSmXduRen03bkqLZ3R3VxfB\n6OmpLMmc6t60rrpksvJazHPmpLqnTatOlTZ1aupd3rKzOqVaV1da8KMj9wjv2lHtsV69IU3LtmtX\n6o3eVsgRFikPePPG1Es8p9rxTNeUdO7Ojsrj8QobNnoi4hbgmXV2D5iwHhH/j9o9yGfkS61jfkNa\nHa5RvSvrnT8ivgZ8baC2mZnZxOceYTMzMzNrSw6EzczMzKwttVVqRG+enmzKlJTGsLqQGrFrVUpx\nmDI9pS9Mnzq9b9+sGWmgWiW1orJCHYDyVGddOdVhF9Xpyjp7U/kZ01OuwvSZ1TorthRSHHbtSAPb\nuntSSoSonqcrp1nMnJHaN39udbrT6bn+rVvS6nY9PXOqjzlPYNXZ4ZQIMzMzsyL3CJuZmZlZW5rE\nPcKVcTDVWL+nJ/XWLl68CID9968uQLVq1epUZmfqld1V7YwlpucBdJ1pMNu06dWFMebNSwtcdeWB\ncGvWrunb17srnW/79jS4rjMPhgNYkxfi2LSpOrhu1ozUszt/Qapz4cLq4lnz56fblYF3M6ZXe5en\n5N7oSs/wzJnVBTU6O/1dx8zMzKwWR0lmZmZm1pYcCJuZmZlZW5rEqRFJcYjYrl0p7WFHnrs3ojqw\nrXK7N6dPdBeO3Jjn8F2fsxi6CikOa3OKw86cBrFu/f19+6ZOSeV27twOQM/66rzA06emgXRLDj2k\nb9vixYsBWLhwAQCzZlUnBJ6eUyG6utKfrKOj+h2msipeZVtHYUW6YjkzMzMzq3KUZGZmZmZtadL3\nCBf7hCs9p5UBZHPnzurbN29+GgC3fkOagmzr1k19+3ZtTIPdKjOxRWFBqp7uNKpOeduUqdV9HUr7\nVt2VVoPdc+HCvn1HPfIRACzco7pteh7kNqWywlxH525tL1+ndkXe1tHv2szMzMzqc8RkZmZmZm1p\nEvcIV3pJCz20HamndcGCPQF42BHVadAOOuRgADZvST3Bmzdt7tu3fVvK8d25M/cMF74/9OXl5l7Y\nrinVXtzKtGZzZqcpzxYVeoQr+b/FKdWqOb6V+qttrz6Myo1osM/MzMzMBuIeYTMzMzNrSw6EzWxC\nkLRC0qDWCpcUklaMUJPMzGyCm8SpEUllIBlUB7RVpj+bPbv68GfNSgPnFi5K6Qu9PT3VOnrToLfe\n3lxXjcFolfN0dlZTIyopDpVttaYyk+oPiGvMaRBmZmZmwzHpA2Eza2uHA1vHuhFmZjY+TfpAuH/v\naqXHlX7XSV6ootLr29VbOKq37xb0nz5t6G3p36b6+81sqCLi5rFug5mZjV/OETazMSfpWZIulbRa\n0g5Jd0u6TNKZNcp2SXq7pL/msndK+pCkqTXK7pYjLGl53r5M0umSrpW0TdJ9kr4gackIPlQzMxtH\nJn2PcFG1w7V+/N/RUSlU7J3tX14tzc91L7C1N0n/DPwXcA/wv8AaYDHwCODlwKdKh3wVOA74EbAR\neDrwb/mYlw/i1GcBTwEuAX4MPCEfv0zS0RFxf6ODzcxs4murQNjMxqVXATuBv4uI+4o7JO1Ro/wh\nwMMiYm0u8+/AH4CXSXpbRNzT5HlPAo6OiGsL5zsPeCPwQeAfm6lE0tV1dh3WZDvMzGyMODXCzMaD\nbmBXeWNErKlR9q2VIDiX2QJcRPo8e/QgzvnlYhCcLQc2AKdJmjaIuszMbAJyj3Bduw+yM7MRcRHw\nUeAGSZcAlwG/apCa8Psa2+7M1wsGcd7LyhsiYoOk64ATSDNOXDdQJRFxVK3tuaf4yEG0x8zMRpl7\nhM1sTEXEx4DTgTuA1wPfAe6V9AtJu/XwRsT6GtV05+vOGvvqubfO9kpqxbxB1GVmZhOQA2EzG3MR\n8aWIeBywCDgZ+DxwPPB/khaP0Gn3qrO9MmvEhhE6r5mZjRMOhM1s3IiI9RHxw4h4JXAhsJA0Q8RI\nOKG8QdI84JHAduCmETqvmZmNEw6EzWxMSXqapFrjFSo9wSO1MtxLJT2qtG05KSXiaxGxY4TOa2Zm\n44QHy5nZWLsY2C7pl8BK0ujU44DHAFcDPxuh8/4I+JWkrwOrSfMIPyG34ewROqeZmY0jDoTNbKyd\nDTyVNMPC00lpCbcDbwU+HRG7TavWIueRBua9EXghsJmUjvH28nzGQ7T0pptu4qijak4qYWZmA7jp\nppsAlo7kORQRI1m/mdm4Imk5cA5wYkSsGMHz7CDNYvGHkTqH2QAqi7rcPKatsHbVitffUmBjRBw0\n/ObU5h5hM7OR8SeoP8+w2UirrHro16CNhYny+vNgOTMzMzNrSw6EzczMzKwtORA2s7YSEcsjQiOZ\nH2xmZhODA2EzMzMza0sOhM3MzMysLXn6NDMzMzNrS+4RNjMzM7O25EDYzMzMzNqSA2EzMzMza0sO\nhM3MzMysLTkQNjMzM7O25EDYzMzMzNqSA2EzMzMza0sOhM3MzMysLTkQNjNrgqT9JH1B0t2Sdkha\nKel8SQsGWc/CfNzKXM/dud79RqrtNjm04jUoaYWkaHCZPpKPwSYuSc+TdIGkKyRtzK+XrwyxrpZ8\nnrZC12if0MxsopF0CPBrYDHwPeBm4LHAG4CnSTo2Ih5oop5FuZ5DgZ8DFwOHAS8HTpZ0TETcNjKP\nwiayVr0GC86ts717WA21yewdwN8Bm4FVpM+uQRuB1/KwOBA2MxvYp0gf2q+PiAsqGyV9DDgLeB/w\n6ibqeT8pCD4vIt5UqOf1wMfzeZ7Wwnbb5NGq1yAAEbG81Q20Se8sUgB8C3AC8Ish1tPS1/JwKSJG\n61xmZhOOpIOBW4GVwCER0VvYNwdYDQhYHBFbGtQzC7gf6AX2johNhX0d+RxL8zncK2x9WvUazOVX\nACdEhEaswTbpSVpGCoQvioiXDOK4lr2WW8U5wmZmjT0xX/+k+KENkIPZXwEzgccNUM8xwAzgV8Ug\nONfTC/wk3z1x2C22yaZVr8E+kl4o6WxJb5J0kqRprWuuWV0tfy0PlwNhM7PGHpKv/1Jn/1/z9aGj\nVI+1n5F47VwMfAD4KPBD4A5Jzxta88yaNu4+Bx0Im5k1Ni9fb6izv7J9/ijVY+2nla+d7wHPBPYj\n/UJxGCkgng9cIumkYbTTbCDj7nPQg+XMzIankms53AEXrarH2k/Tr52IOK+06c/A2yXdDVxAGtD5\no9Y2z6xpo/456B5hM7PGKj0U8+rsn1sqN9L1WPsZjdfO50hTpz0yD1oyGwnj7nPQgbCZWWN/ztf1\nctYenK/r5by1uh5rPyP+2omI7UBlEOesodZjNoBx9znoQNjMrLHKXJlPydOc9ck9Z8cC24ArB6jn\nylzu2HKPW673KaXzmVW06jVYl6SHAAtIwfCaodZjNoARfy0PlgNhM7MGIuJW0tRmS4F/Ke0+l9R7\n9qXinJeSDpPUb9WliNgMfDmXX16q57W5/v/zHMJW1qrXoKSDJe1brl/SHsD/5LsXR4RXl7NhkTQl\nvwYPKW4fymt5pHlBDTOzAdRYEvQm4GjSnL9/AR5fXBJUUgCUFy2oscTyVcDhwCnAfbmeW0f68djE\n04rXoKQzSLnAl5EWNVgLHAA8nZSz+Xvg7yNi/cg/IptoJJ0KnJrvLgGeCtwGXJG3rYmIf81llwJ/\nA26PiKWlegb1Wh5pDoTNzJogaX/g3aQlkBeRVkD6LnBuRKwtla0ZCOd9C4FzSP9Q9gYeII3Sf1dE\nrBrJx2AT23Bfg5KOAN4MHAXsQxqYtAm4Afg68F8RsXPkH4lNRJKWkz676ukLehsFwnl/06/lkeZA\n2MzMzMzaknOEzczMzKwtORA2MzMzs7bkQLgBSXMkfUzSrZJ2SgpJK8e6XWZmZmY2fF5iubFvA0/O\ntzeSRtjeP3bNMTMzM7NW8WC5OiQ9DPgTsAs4PiJGbXJnMzMzMxt5To2o72H5+noHwWZmZmaTjwPh\n+mbk681j2gozMzMzGxEOhEskLc8TkV+YN52QB8lVLssqZSRdKKlD0mslXSVpfd7+yFKdj5L0FUl3\nStohaY2k/5P03AHa0inpjZKul7RN0v2Svi/p2Ly/0qalI/BUmJmZmU1qHiy3u83AvaQe4bmkHOHi\nKifFVXdEGlB3CtBDWqGnH0n/DHya6peO9cB84CnAUyR9BTgjInpKx00hLT14Ut7UTfp7nQw8VdKL\nhv4QzczMzMw9wiUR8ZGIWAK8IW/6dUQsKVx+XSj+HNLygGcCcyNiAbAXae1tJD2eahD8TWD/XGY+\n8O9AAC8B3lajKe8gBcE9wBsL9S8FfkxaL97MzMzMhsiB8PDMBl4fEZ+OiK0AEXFfRGzM+99Deo5/\nBbwoIlblMpsj4v3AB3O5t0qaW6lU0mzSevAA74qIj0fEtnzs7aQA/PYRfmxmZmZmk5oD4eF5APhC\nrR2SFgIn5rsfKKc+ZB8CtpMC6qcXtj8VmJX3faJ8UETsAj429GabmZmZmQPh4fl9RHTX2fcoUg5x\nAJfVKhARG4Cr890jS8cCXBcR9WatuGKQbTUzMzOzAgfCw9Nolbk98/WGBsEswKpSeYA98vXqBsfd\nPUDbzMzMzKwBB8LDUyvdoWzaEOpVE2W8JKCZmZnZMDgQHjmV3uIZkvZsUG6/Uvni7b0bHLfPUBtm\nZmZmZg6ER9K1VHttT6xVQNI84Kh895rSsQCPzDNI1HLcsFtoZmZm1sYcCI+QiFgL/CLffaukWs/1\nW4HppEU8fljY/hNgS973L+WDJHUBZ7W0wWZmZmZtxoHwyHon0EuaEeJiSftBmidY0tuBs3O5Dxbm\nHiYiNgHn5bvvlfQ6STPysQeQFuc4aJQeg5mZmdmk5EB4BOVV6M4kBcPPB+6QtJa0zPL7SIPiLqK6\nsEbRe0g9w12kuYQ35GNvJ805/IpC2R0j9RjMzMzMJisHwiMsIv4LeAzwVdJ0aLOBDcBPgedHxEtq\nLbYRETuBk0krzP2JFEz3AP8LHE817QJSYG1mZmZmg6AIz8I1EUl6EvAz4PaIWDrGzTEzMzObcNwj\nPHG9JV//dExbYWZmZjZBORAepyR1SvqmpKfladYq2x8m6ZvAU4FdpPxhMzMzMxskp0aMU3mKtF2F\nTRtJA+dm5vu9wGsi4rOj3TYzMzOzycCB8DglScCrST2/RwCLgSnAPcDlwPkRcU39GszMzMysEQfC\nZmZmZtaWnCNsZmZmZm3JgbCZmZmZtSUHwmZmZmbWlhwIm5mZmVlb6hrrBpiZTUaS/gbMBVaOcVPM\nzCaqpcDGiDhopE4waQPhy750QQBMm1rt9L7n/nsBuG/DJgD+cvNf+vZp5w4AFu65EIC9lizp2zdn\n7p4AzF+4FwCr7vhr375tWzcAMHv2bAC6uqpPaXdPNwC7dvUCsHXL9r59nWxLdc/urDZaqa27YioA\nO7qr+7bvSHUtWLAoHT9lat++nd2p/t6eNO1w166NffsWzpkCwNxZqfy2nVurdfamGUOe87oLhJm1\n2twZM2YsPPzwwxeOdUPMzCaim266iW3bto3oOSZtILz63pUAzJ09s2/bXkv2ACCmpod916rpffum\nk27PmZMC2kMPPby6b0b6PxaRyiw8Ym7fvq1b1wKwZs0D+X410Ozt6Uk3IsWZq+6+o2/f9i3rATj2\ncY/u27Zm7ToA7llzHwCL9zqw2oZps/Ot1PaOjml9+zo70nl27kzXD2zu6dv3wJb0Alq6X3rss2fM\n7ts3vWcHZjZiVh5++OELr7766rFuh5nZhHTUUUdxzTXXrBzJczhH2MzGFUmvl3SjpG2SQtIbx7pN\nZgjAEGEAACAASURBVGY2OU3aHmEzm3gkvQj4OHAtcD6wA7hyTBtlZmaT1qQNhK+/Pq0+fMB++/Zt\n65qW0gnW5hSE9evX9+07cMliADo7UxrDzl3VfN5du1K5HTtTB/r8edW0hClTUg7u3nunnOItW6qp\nERs2pOO6e1N+7wFL9+/bt2PrAgCmTp/Tt62zK6cqaHO+X/3zLN4z5SlvyvVv315tX0/O9e3OucLT\nZ87v29fbuzM95s1pX09Pb9++qR3VFAqzceIZleuIuHtMW9ICf7prA0vP/sFYN8PMbEys/ODJY92E\nATk1wszGk30AJkMQbGZm49+k7RGevzD1uObOUgDuvff+dH1P6qmdOaM66K3Se9tL6r29+ebr+/bN\nm596ixcu2gcAdVS/P0Rv6lWt9NBu3Liub9+WLalnd8m+qbd40ZJqT+2W9WnflI7q7A+L90o9zdPn\npLZPmVrdt2NX6gmu9PCGqm3ojdTLK6UH29Vb3bertyu3L+3bWRh9OX96tXfYbCxJWg6cU7jf986N\nCOX7lwEvAt4LnAQsAf4xIi7Mx+wNvAM4mRRQbwCuAN4XEbuNWJM0DzgXeB6wB2mas88C3wVuBb4Y\nEWe09IGamdm4MmkDYTObUFbk6zOAA0kBatlCUr7wZuDbQC9wL4Ckg4BfkgLgnwNfA/YHng+cLOm5\nEfH9SkWSpudyR5LykS8C5gH/Dhw3mIZLqjctxGGDqcfMzEbfpA2ED9k/TT02bVo1n3fbrtTJtGBR\nmg5t46ZNffvuWp2mLNs/T62mruocvltX356ut6TyWzZUe5L33Cvl7i7MdXZOrR43e/YsAPbdZz8A\ndubeXIDYmdqyY9uuvm0duQd4WkfKU961o1p+04Y0Tdu69el6/wOqU6vNnJmmdXvg/tSrPVUz+vZ1\ndqY6O7pSnR1RnTK4p6eaZ2w2liJiBbBC0jLgwIhYXqPYEcCXgVdERHdp32dIQfA7IuJ9lY2SPgVc\nDnxR0oERsTnvegspCL4YOC0iIpd/H3BNqx6XmZmNb84RNrOJYifwr+UgWNJ+wFOAO4APF/dFxK9J\nvcMLgecUdp1O6lF+WyUIzuXvJM1W0bSIOKrWBbh5MPWYmdnocyBsZhPFyoi4r8b2R+XrKyJiV439\nPy+WkzQXOAS4KyJW1ij/y+E21MzMJoZJmxqx1/w0MG1Hd3X1tHsfuAeAW29fBcD6TdWpzmYtTEsX\nb9qa0hHmzV3Qt29qZ/q+cMdf0tLK6+ZWUw9mTD8inW/vvQHYc1Y1beKB+1IaQ2Wg2u13VAfC377y\n1nSjszqar3NGWgVv4/bU5qkd1ZXvuvMgt17SALdZs6b07duWV4+L7tT2XYUBeHPm5JX18hRu0Vv9\nk/f2VMuZTQD31Nk+L1+vrrO/sr0yWrXyJr23Tvl6283MbJJxj7CZTRRRZ/uGfL2kzv69S+U25uu9\n6pSvt93MzCaZSdsjvHZzGtjWUZ2FiciLSczsSj2hmlUd2LZuXeq93bY5jaWJ7dVpxg49+GAA9t07\nTaO2aeOGvn3r16b/qbfc9re0b1t1gNv6dakNO3emKdZW3VXt0Nq+LZ1n730W922bMTP9Obbmnt25\nC+f9f/buO06uq777+Oe3M9uLdrXqXa6SbbBxxQ2bZjCE4BAIkIRgk5AnAUILTzAlQYaEkgIkPMHk\nofkBUxOKIUBwYpBtbIzBBVzkJluS1bW9l5k5zx+/s/eO17MrabWrMvN9v1727N7fveeeu5rX6sxP\nv3NOEqtpavI+LDsFgHxRpns03qcQ58GNjqcxG/Y26+v8maur08mDY3ktnyZl4Z74epGZZUtMpHtu\nfL0bIITQZ2aPA2vMbE2J8oiLZqtjpy2fx13HwILyIiKVShlhETmmhRC2A/8NrAHeXhwzs/OA3we6\nge8Uhb6E//77iJlZ0fkrJ7chIiLlq2wzwiJSUf4MuA34BzO7DPgV6TrCBeCqEEJ/0fl/D1yBb9Bx\nspndiNca/x6+3NoV8ToRESljZTsQ7h7y0oZMIf27LGNeHrBy8SoAOnt6kthIv5cqLFrua/5minLl\nA3H94HktzQA0NKUlC/s6vUxi75CvyZsr2nUuG0swBke9VKE2ljcAzF/YHr/KJ8cmyhZWrVjgB3Lp\nv/Dm4wS6ujihrmNv+nd6ptr/GFvm+Wv/YPrMtfXVsW2PVZGuI2xVZfvHLxUmhPC4mZ2N7yz3EuBS\nvBb4v/Cd5X456fxhM3su8EF8Z7l3AE8AH8Z3o7uCtJZYRETKlEZCInLUCCFcOsVxK3V80jk7gD8/\niHv1AG+N/yXM7I3xy00H2paIiBybyncgHHdUy+fTyWtW5ZPjspmJiWPpMmgjI778aFubL1nW2JDG\nxuPcm1zMoA4V0kxtTZNnaAvVngnu6Ukn0s1r9lWalsTd50I+nbhXbZ61HRxIk04P/cZ3ah0c9Szx\n2jUrk1hdzOju2ObPUMily6UOD3obmYyPFepr08zzogWexR6NGeuxkXQiXVVRNlqk0pjZshDCzknH\nVgJ/DeSA/yx5oYiIlI3yHQiLiEzvW2ZWDdwF9OCT7X4LaMB3nNtxBPsmIiKHQfkOhPOeHS0U0n9R\nra3z7O1Y8KxqVW26YcVYPmZ0+z1z2jJ/YRLLxGxv3BeDjpGRJNbS2OhtFSbukbYZxjxru3vL4wDM\na0qXLotdoL6oFvm8U48HoG/Is7ZjRZnnfN5rnjt2PglAc1G98aI270Mu79cVz/Cpxo/lg7+O59K+\nZ8NUy7KKVIQvA68DfhefKDcA/AL4PyGEbx/JjomIyOFRvgNhEZFphBA+DXz6SPdDRESOHK0jLCIi\nIiIVqWwzwnUTZQ/V1cmxhno/lotLqlWFhiS2/qQTAejp82XJBofSSWVNrS0x5hPhBsbTSWZVo3EX\nuKy3taR9QRLr2L7duxD8/DpLSx3GBn25tprGdFKexXIOizvDzWtpSWK7O7oBeOyxLQA849RTktjJ\nC3xH2M69vnPdnq6BJNbTPQRAJhZM1GfTzz51VfocJCIiIpVLIyERERERqUhlmxEeyXkWtqWhJjnW\nMLG5RFw2rLm2MYmNjbUCMJ73CW6Do8NJrG+Pf13X6BPUGpvTDTWGBjzjWh2zzCNFq52ODHlmtjYe\nGx4s2jyjxvsyMJou7zbUMwjAkqW+4Ud1ffEGHJ45vnCFZ65XLV+e3mjc+zA67JPfHn5oaxqLS6rV\nxh/D6GB3Ejp++VJEREREKpUywiIiIiJSkco2Izww5vW49XVpRjiT9TXLQqzB7exOt1h+fIcvGVqI\nm26MF31EGIybUFTFGuOh4XQJsiUL4zJrcYOLxx97LIlV5b0PDQt8O+Wq2rQmuaHVs9FdvWmGdijv\nGWOLG2L0D6d1yp1dHQCce44vsVaTSZc+27XDa4O3bdvisao081zb0BDv7X/U1XVpzfRoJq1PFhER\nEak0ygiLiIiISEXSQFhEREREKlLZlkZY1ksAuuJyaADdnV5C0BYnzW3dtSeJjcQJdAtiqcPA4FAS\ny8dlxoaGfNJcyKV7tw10+5JqjbEEo6E+LX+Y1+ylB23z2gDYsXN3Eusb87KHhqb0/PmL/bzqBp+M\nt6vziSRWU+t9toKXYOzduzdtq89LPGrqfee6tU3NSayQ8VKP3lEv5xgcTpdw27EnbUNERESk0igj\nLCIiIiIVqWwzwuOjntHdvWtHciwXj7U1+2S0iQl1AA1NTfE6X84s5NOsb3WcQJcv+PnFGeFcnDiX\njx8pGosywjVxM4+hYb/veCG9X03wDHLaErTO80xwTVzrbMWq1UmskPM2Hn34AQCWL1qYxNasXglA\nxtYCMNyTTsB7fOsW70Nvlx+wdH23xfPT5dlEKpmZbQQuCSHY/s4VEZHyUbYDYRGRI+3+Hb2sufoH\n+z1vy0dfehh6IyIik6k0QkREREQqUtlmhHu69wGwdVu6y1r7Ai8nGK7y0oOqutokVht3euuOawsP\n9A0msZamFgAslkuMDKXrCGfj2sIjcc3f1sXtSczwiW07d+4EoK4uXbd3XotPaFu2YllyrL7JSyP2\n7evz2Kp097iBPp/Y17XTJ+zt2bsriTW2zPf2a7wso6boH3fXrlnhz9Dr9x4bTfu+dOFiRI41ZnYu\n8JfARcACoAu4D/hcCOGb8ZwrgZcBzwKWAuPxnGtDCNcXtbUGeKLo+3SBbrg5hHDp3D2JiIgcaWU7\nEBaR8mNmbwSuBfLA94BHgUXA2cCbgG/GU68FHgRuAXYB7cBLgC+b2ckhhL+O5/UA1wBXAqvj1xO2\nzOGjiIjIUaB8B8Jx17QFC9OM69BIXP5sYDDGFjwtNhp3nRseGUhitXHSWwg+aW5ofDyJZes8I9zS\n6BPPciGtNhkd8vNq445yra0tSax9gd87W12XHMsV/NraRs8WV4c0ezuwbzsAjz+xGYDde9Nd8Zav\nOcG/KHgqeHlz2ua6kzwj3NrmfejqSHerq63XZDk5dpjZKcCngT7g4hDCA5PiK4q+PS2EsHlSvAb4\nEXC1mX0mhLAjhNADbDCzS4HVIYQNM+jXXVOE1h1sWyIicnipRlhEjhV/jn94/9DkQTBACGF70deb\nS8THgH+NbTx/DvspIiLHiLLNCNc3+uYUSzJpdvSRRx8GYN8erx9ubZufxPr6fHmykbh8WvO8dFOK\nbMZ/TIZnhtvb0sxuCF5SmIkbV+zcnW5SUVXlGdrFCxf5/ean1+Xzfl1/b29yLJfrBNJMdf+unWkf\nBr1u+JyTTwKgsK46vU/Wa527uv2c3NhwEtv25JPeT/NM8NYt6XJyXV2ecX4hIseEZ8fXH+3vRDNb\nBbwbH/CuAuonnbL8aRfNUAjhrCn6cBdw5mzdR0REZl/ZDoRFpOy0xtcd051kZscBdwJtwK3AjUAv\nXle8Bng9UDvV9SIiUjk0EBaRY8VEYfxy4KFpznsnPjnuqhDCdcUBM3stPhAWEREp34Hw4KCXB3Ts\nSpcZa232conuJ321pIfufziJhSovl16zJk6uy6e7wOXGfNJbIU6kq82m65O1tfqSZyNjXmaQqc4k\nsXltvpSa1fq/yhZIyxn6e70Uo74mXa1pQZsnqUL/Nu/CyFAaa/VSjXktXl5Rl61JYhOF3vua/asn\n9qRtDo97G63zPJm2fn06QW77k/sQOYbcga8OcTnTD4Tj7FG+VSJ2yRTX5AHMLBNCyM+4h5Octnwe\nd2mzDBGRo5Ymy4nIseJaIAf8dVxB4imKVo3YEl8vnRR/EfAnU7TdGV9XHXIvRUTkmFG2GeG9e3cD\n0BlfAebH5ctqM57R7ezoTGKjcemxVSv979K2eW1JLD/mE+h6u31iW11tmtltb/dMa0Ozv+7ak2ZZ\nszU+Ua+p2bOwA319SWy4z9tqWNiaHJvX5Fnf0WHP4g4W5aVGJm6Z89hwIV1arTbjn2eqGz0bvWRZ\nuizcWM4z24WCvzY1pRnrmprJ84dEjl4hhAfN7E3AZ4B7zOwGfB3hdjxT3A88F19i7Srg383sW3hN\n8WnAi/F1hl9dovmbgFcB3zazHwLDwNYQwpfn9qlERORIKtuBsIiUnxDCZ83sfuBdeMb3CqAD+A3w\nuXjOb8zsucDf4ptoZIFfA6/A64xLDYQ/h2+o8Rrgr+I1NwMaCIuIlLGyHQjn8p4xratNqz+y5inW\nRfO9rndgMM2q9vT41729vpHGyFCavW1u8M0oGps8s1sIhSTW0dMPwEmLlgCweFG6xfK2bV7r29Pp\ny6B1d6XZ4uWLVgJQXd2YHBsZ86x0VbXfJ1NI70MsSy6YZ3RHi0L5GJw4vbo2zfpmavyPeHTE65vH\nc2ntc2NjurScyLEihPBz4Hf3c87twPOmCNvkA7Eu+L3xPxERqRCqERYRERGRiqSBsIiIiIhUpLIt\njVjQ5v/sv/zkdBK4BS8L2L3H1+M/vnZpEuu9z3dg6+72pUoXLZiXxvq8/KGuxpcsq6lLSwoGhrzk\noLPLJ78tXZJOVOvc5+dv2uLLtA0MpOUWC9t9t7lc0T/S7uz0eCHvE+Ja6tLPKa1NXp6Rj/UPI3EC\nn/Pl0uprffm1QmE0iYzFnfIKBT/HSJdWKxRmbZUoERERkWOOMsIiIiIiUpHKNiP87FPWAJCtbUiO\nbd66FYCWNp+M1rowzex298UNOLo9+9vVm044q/K19jlulWeJGxrSTSnG4mYbIXhqN5NN21y60rPR\ngyM+EW/blq1JbOdun0BX25BujLF8uS/dNtTn924Mad/J+j3HYrY41Kd/dJm4GUhV1l9z/WnmOTfm\nzzWRxa7KpPfLVqdfi4iIiFQaZYRFREREpCJpICwiIiIiFalsSyNGh7zE4cmtHcmxQsF3Uluy6AT/\nviqdOLZ+nU8027WvC4CdRTvEjYx4eUF3j0+Iq29oSWL1zfHrav9MMZxLJ7F19fuaxFVZL0FobUkn\n4DU1eanC3t07kmO11f7H0TrPJ9wN59OZdFVN8wFoqPL7jY2m5Q+FEX/W8djPKkuva2z0dYqzcSJd\nCOlnn6psukOeiIiISKVRRlhEREREKlLZZoQ3bfPsbW9fupPamrXLAMi2tAJQyKfZ24ksbHV9MwCj\n4+l127Z4W50d/lqgNoll6zyr2jfosUzRrm7LV60GoCruBtdUk163ZLHvQNfRuTc51t3lS7fVxt3m\nTjptfRJbHNvq6+0EIN+ZLn02Pub3bqzzzHNxptuq/N5h4jNPVfrZJx/S80REREQqjTLCIiIiIlKR\nyjYjPF7nGd6erl3JsQe3PQbAM+b7+L+hpj6JzZvnNbi1ed+MonbHk0ksxMxpW9tCAM545tlJrCqu\nQNbY5G3W16fLp61e6Vnc0QFfYi3TMj+JLVzYBkBNQ2N6bIlneRct9Mz1whUrk9jAqLdR2+DX1WbS\n+t5dcaOO4Vg3XFOd/rEWYt8ncr/Z6vS6XEEZYREREalcygiLiIiISEXSQFhEREREKlLZlkbkR31S\nWU1IJ8R17ugGYEe9l0RccP5FSay21ksUCtkCAG0L2pLYGc84A4CmGl+6bP26ZyaxhmYvNRgb92XX\nHtv8aBLr7/RJbIN9vrPcoiWLkljO/Lp5C5Ymx0ZH4gS9at9Rrqe3J4kVzD+zZBp8ol91TXMSa1vk\nJRg9+x4HwDKjScwmiiLihL2qTPpHPj42gsjRxsy2AIQQ1hzZnoiISLlTRlhEREREKlLZZoQzI0MA\ntOSGk2PN83yjieGO3QAM9gwksZqFniUu5PyzQUvzkiS2avnJAIwODAKwZ9/uJLbQPEts+P2ylk5A\n2/HkNgBqa30CXXNrexIbGfW26mvSyXU1td6/nm7PBIf+dAm3ea2eoR4seJ+rM+lnmI5u31Djl796\nAIBly9L7nLDGn8NyniXOFNJl1/K5AiIiIiKVShlhEREREalIZZsRtoKva7agOc161tR7NnT3oGdV\nH3jkniR2cvZMABpbfIm0NBcLuQbP8sadkhnu7U9i+zo9Ezw66FsyDw4OJrG9+7xG+MRTnuV9qkq3\nPrZYs1tXmy7hlo0fSzrGYxa7KGFbNfGZJfjBkE+DQ4Peh8ce9+2a7960OYld8KyTADh7vS/FVhhN\n64J3PJlmtkUOJzMz4M3AnwPHA53Ad4D3TXPNa4E/Bc4A6oEngK8A/xBCGC1x/jrgauD5wCKgB7gJ\nuCaE8PCkc68DXh/78lLgjcCJwC9CCJfO/ElFRORoVrYDYRE5qn0SeCuwC/i/wDjwcuA8oAYYKz7Z\nzD4PvAHYDnwbH9Q+G/gQ8Hwze2EIIVd0/ovjedXA94HHgBXAK4CXmtlzQwh3l+jXPwMXAz8Afgjk\nS5wjIiJlQgNhETmszOwCfBC8GTg3hNAVj78P+CmwFNhadP6V+CD4O8AfhBCGi2IbgA/g2eV/jsfa\ngK8BQ8BzQggPFp1/KvAL4HPAmSW6dybwrBDCEwfxPHdNEVp3oG2IiMiRUbYD4XyVJ3JqinZ6a27x\nr+sW+mN3DKWlCr1x8lpj7WIAijZgY3zUl10bHewAYGQwnWQ3r8nP37prDwA9vb1JbPGytX6/2Iex\n8bQsIRPrIIp3egt53z0uN+6lGLU1NWks7gIXKyqS3e4AFi/2ZdnOO+8cAO64O/17+eGHfTe9dSv9\nnIGejiTWvXcvIkfAVfH17yYGwQAhhBEzew8+GC72Nrxa6Q3Fg+DoQ8BbgD8gDoSBPwJagbcUD4Lj\nPR4ws88CbzezUybHgb8/mEGwiIgc28p2ICwiR62JTOzNJWK3UlSib2YNwOlABz54LdXeKLC+6Pvz\n4+vpMWM82UnxdT0weSB853QdLyWEcFap4zFTXCrrLCIiR4myHQhX1Xs21RrSR9y2yzOg8xb4kmd1\n9bVJrKXVJ601NnqGNuTGk9ieXf6vtJl8nCQX0jb37dkFQHeXZ4JHx9JpdrX1vknHWGxrvKjNmmrv\nXyikk97y8dKJiXT5XFqeODDgWegcPhCY19yUxKpjVnmgrw+AhS3pZhtDvd7ozp0xE5xP5xRlM2m2\nXOQwmhdf90wOhBDyZtZZdKgNMGAhXgJxICbWD3zjfs5rKnFMM0hFRCqIlk8TkcNton5o8eSA+afA\n9hLn3hNCsOn+K3HN6fu55v+V6FsocUxERMqUBsIicrhNrNZwSYnYxRT9S1UIYQB4ADjVzOYfYPt3\nFLUlIiIypbItjRiOZQY9w2k5wmNbfMe2JSN+bMGytPTg8ft+CUBDrEFsampJYkMDPlmurspXdBoa\nS6/r6vI1fBvqvAzi+BNXJ7Fx888Zu/f5vwBXFe0619Ls7Y+MNCTHMnhJRE2Nl2mEfLqC1ERtpMXS\niPHx9Lme3L7Fzx/3849b1JrEcvO9X4MDXhIxMDSUxOrq0zWMRQ6j64A/Ad5nZjcUrRpRB3ykxPkf\nBz4PfMHMrgwh9BQH4yoRa4uWQ/sivh7xB8zslyGEOyedX4WvJrFxFp9JRESOQWU7EBaRo1MI4TYz\n+xTwF8D9ZvYfpOsId+NrCxef/wUzOwt4E7DZzH4MbAPmA2uB5+CD3z+L53ea2Svx5dbuMLOb8Kxy\nAViFT6ZrB+a6SH7Npk2bOOusknPpRERkPzZt2gSwZi7vYcXLcImIHA5FO8u9GTiOdGe59wK/Bggh\nrJl0zW/hg91z8eXRuvAB8Y3A9SGEhyadvwZ4F/AiYCW+ScdO4JfAt0II3y069zp8Z7m1IYQts/SM\no0Bm4nlEjhIT61s/NO1ZIofXVO/LNUBfCGHtXN1YA2ERkTkwsdHGVMuriRwJel/K0ehIvi81WU5E\nREREKpIGwiIiIiJSkTQQFhEREZGKpIGwiIiIiFQkDYRFREREpCJp1QgRERERqUjKCIuIiIhIRdJA\nWEREREQqkgbCIiIiIlKRNBAWERERkYqkgbCIiIiIVCQNhEVERESkImkgLCIiIiIVSQNhEREREalI\nGgiLiBwAM1thZl8ws51mNmpmW8zsk2bWdpDtzI/XbYnt7Iztrpirvkv5mo33pZltNLMwzX91c/kM\nUl7M7JVm9ikzu9XM+uJ76PoZtjUrv3enk52thkREypWZHQ/cDiwCbgAeAs4F3ga82MwuDCF0HkA7\n7bGdk4CfAF8H1gFXAS81s/NDCI/PzVNIuZmt92WRa6Y4njukjkqleT9wOjAAbMd/xx20OXh/l6SB\nsIjI/n0a/2X81hDCpyYOmtnHgXcAfwf82QG082F8EPyJEMI7i9p5K/DP8T4vnsV+S3mbrfclACGE\nDbPdQalI78AHwI8BlwA/nWE7s/r+noqFEA61DRGRsmVmxwGbgS3A8SGEQlGsGdgFGLAohDA4TTuN\nwD6gACwNIfQXxariPdbEeygrLNOarfdlPH8jcEkIweasw1KRzOxSfCD8lRDCHx7EdbP2/t4f1QiL\niEzvefH1xuJfxgBxMHsb0AA8ez/tnA/UA7cVD4JjOwXgxvjtcw+5x1IJZut9mTCzV5vZ1Wb2TjO7\n3MxqZ6+7Igdl1t/fU9FAWERkeifH10emiD8aX086TO2IwNy8n74OfAT4J+CHwDYze+XMuidySA7b\n70sNhEVEpjcvvvZOEZ843nqY2hGB2X0/3QC8DFiB/6vFOnxA3Ap8w8wuP4R+iszEYft9qclyIiKH\nZqKu8lAnXMxWOyJwEO+nEMInJh16GHivme0EPoVP8vzR7HZP5JDM2u9LZYRFRKY3kXmYN0W8ZdJ5\nc92OCBye99Pn8KXTzogTlEQOl8P2+1IDYRGR6T0cX6eqRTsxvk5Vyzbb7YjAYXg/hRBGgImJnY0z\nbUdkBg7b70sNhEVEpjexBuZlcZmzRMySXQgMA3fsp5074nkXTs6uxXYvm3Q/kenM1vtySmZ2MtCG\nD4Y7ZtqOyAzM+ft7ggbCIiLTCCFsxpc2WwO8eVL4GjxT9qXitSzNbJ2ZPWU3pRDCAPDleP6GSe28\nJbb/Y60hLAditt6XZnacmS2f3L6ZLQC+GL/9eghBu8vJrDOz6vi+PL74+Eze3zPugzbUEBGZXomt\nPjcB5+Fr/j4CXFC81aeZBYDJGxSU2GL5TmA98HJgb2xn81w/j5SH2XhfmtmVeC3wzfgGBl3AKuAl\neH3mr4AXhhB65v6JpByY2RXAFfHbJcCLgMeBW+OxjhDCu+K5a4AngK0hhDWT2jmo9/eM+6uBsIjI\n/pnZSuCD+BbI7fjORt8FrgkhdE06t+RAOMbmAx/A/6JYCnTiM/L/JoSwfS6fQcrPob4vzewZwF8C\nZwHL8ElI/cADwDeBfwshjM39k0i5MLMN+O+4qSSD3ukGwjF+wO/vGfdXA2ERERERqUSqERYRERGR\niqSBsIiIiIhUJA2ERURERKQiaSB8DDKzNWYWJiY+iIiIiMjByx7pDhxJcdmYNcB3Qwj3HtneiIiI\niMjhVNEDYeBK4BJgC6CBsIiIiEgFUWmEiIiIiFQkDYRFREREpCJV5EDYzK6ME80uiYe+ODH5LP63\npfg8M9sYv/8DM7vZzDrj8Svi8evi9xumuefGeM6VU8SrzexPzewmM9tnZqNmttXMbozHGw/i+ZUN\nhAAAIABJREFU+U43sz3xftebWaWXwIiIiIg8TaUOkIaBPcB8oBroi8cm7Jt8gZn9C/AXQAHoja+z\nwsyWA/8JnBEPFWKfVuJ7vr8Q31d74wG0dQHwA6AVuBZ4c9D2gSIiIiJPU5EZ4RDCN0IIS4Db46G3\nhRCWFP13zqRLzgLegu+d3R5CmA+0FV0/Y2ZWC3wPHwR3AK8HWkIIbUAjcA7wSZ46UJ+qrcuA/8YH\nwR8LIbxJg2ARERGR0io1I3ywmoCPhBA+OHEghNCHZ20P1R8DZwKjwPNDCL8puscw8Kv437TM7BXA\n14Aa4L0hhI/MQt9EREREypYGwgcmD3x8jtr+o/j6xeJB8MEws6uAz+IZ/jeHED49W50TERERKVcV\nWRoxA4+FEDpmu1Ezq8bLLgB+OMM23gZ8HgjAH2kQLCIiInJglBE+ME+bPDdL5pP+GWybYRufjK8f\nDCFcf+hdEhEREakMyggfmPwctWuz0MbX4+u7zOzcWWhPREREpCJoIDw7cvG1bppz5pU41ll07eoZ\n3vt1wLeAFuDHZnbmDNsRERERqSiVPhCeWAv4UDOzPfF1Ralg3Axj/eTjIYRx4K747UtmcuMQQg54\nLfB9fNm0G83smTNpS0RERKSSVPpAeGL5s9ZDbOe++HqZmZXKCr8DqJ3i2i/F1ytnOoCNA+pXAj8C\n2oH/NrOnDbxFREREJFXpA+EH4usrzKxU6cKB+j6+4cVC4EtmtgjAzOaZ2fuADfhudKV8HrgXHyjf\nZGavM7OGeH29mZ1rZp81s/Om60AIYQx4BXATsCi2deIhPJOIiIhIWav0gfCXgTHgIqDDzHaY2RYz\n+9nBNBJC6AKujt++CthjZt1AF/C3wAfxwW6pa0eB3wbuBxbgGeI+M+sCBoFfAH8C1B9AP0ZiWzcD\nS4GfmNlxB/MsIiIiIpWiogfCIYSHgBcC/4VnbJfgk9ZK1vrup61/AV4N3AEM4T/b24DfKd6Rbopr\nnwTOBt4K/AzoBxrwJdV+DLwRuPMA+zEE/Fa89wp8MLzqYJ9HREREpNxZCOFI90FERERE5LCr6Iyw\niIiIiFQuDYRFREREpCJpICwiIiIiFUkDYRERERGpSBoIi4iIiEhF0kBYRERERCqSBsIiIiIiUpE0\nEBYRERGRiqSBsIiIiIhUpOyR7oCISDkysyeAFmDLEe6KiMixag3QF0JYO1c3KNuBcAHfOzoUio+a\n/z/vBwtVlkQy+fi1eWw0k0+vKvgxCzm8zfEkNjjQ51/E66uyjUmsqib+eKv8/DqrTbuSnbhf2ods\nyMZDGb+PpX3I420Ugifxq0J1eh8yxY+HVaUPHSjEtqqf8ix+euxzpqgTIjJbWurr6+evX79+/pHu\niIjIsWjTpk0MDw/P6T3KdiAsIjIVM1sDPAH8vxDClXN0my3r16+ff9ddd81R8yIi5e2ss87i7rvv\n3jKX9yjbgbAFf82TZlXjIWpiBrVQlActmGdcq4LHbDyksZgJzsYs8Y4dm5NYXa1nWmtrmgDYvfvJ\n9H6ZGKvzH3Mmn0limVrP7I7nx5Jj1RMZ2vhaW9uQnl9TA8Do2CgADQ0t6XWZ2ni+v4aQln5XVVU9\n5VkD6XNZia9EZsthGmyKiIjMWNkOhEVEjrT7d/Sy5uofHOluiIgcEVs++tIj3YX90qoRIiIiIlKR\nyjYjbLEEoMrSyWH5WOKQL/hjdw/3JbGWxjoAakI9ALXZmiSWy8XyiuAF243pfDjq6vw+2Yn5apaW\nOgwNDAEwPuZtDXQPJLFx/LxMTdq/rt3b/TbjcXJdbVsSK+BlD/VN/trWnsYWtC8FYOmSFd72aFoO\nklQ91PhnnupMWp4R8k+ZSSgya8xsA/CB+O3rzez1ReGr8JUUfgpcA/wwnns+0AasDSFsMbMA3BxC\nuLRE+9cBr584d1LsXOAvgYuABUAXcB/wuRDCN/fT7yrgk8BfAN8Bfj+EMHKAjy0iIseYsh0Ii8gR\ntRFoBd4G/Br4blHs3hgDH/y+B/gZ8AV84DrGDJnZG4FrgTzwPeBRYBFwNvAmYMqBsJnVAdcDvwv8\nK/DWEII+LYqIlLHyHQiHmBEuWuqsZ+8uAG763v8A0NCSZkcvvfB8P7/GVzr69eZtSWzFcZ5xXbjI\ns8bt89NJbAHPEhdi0ui445cksVyuOp7j98mPpRPVhsY8OzxeSLPSC1r979y92/3eXfv2JrHaukUA\n9Pf0ANDZtTWJ7d7t5+/Y7pP41p/0rLQPcZZcTZVnki0UL5/mMqQ/B5HZEELYaGZb8IHwvSGEDcVx\nM7s0fnkZ8GchhH871Hua2SnAp4E+4OIQwgOT4iumuXY+cANwIXB1COFjB3HfqZaFWHegbYiIyJFR\nvgNhETkW3Dsbg+Doz/HfaR+aPAgGCCFsL3WRma0G/gs4HnhdCOErs9QfERE5ypXvQDhmhPOD6ULM\n9930EwAe/ulPAThxWVpn293nGdq+4NneT3zne0nstW9+AwAvfdmFAIyPpW2OjfcCUFPrmedsTfoj\nzU5smhHnJFpdGms0X24tV5ShXdi+AID2Fq9lvvsXjyWxM885FYBf3vUzAOa3pG01eFPU1PjSaiGf\n1iKPjfm9R/GMdXN9WuDc2dEBwKrVc7Zhi8j+3DmLbT07vv7oIK45Gfg50AhcHkK46WBvGkI4q9Tx\nmCk+82DbExGRw0erRojIkbR7FtuaqDvecRDXnAQsBR4H7p7FvoiIyDFAA2EROZLCfmJT/atVa4lj\nPfF1+UHc//vAe4EzgJvMbMFBXCsiIse48i2NiH+/brsvLRV89JafA7B41EsIluzuSmI9mzcCsBVf\n6qzziSeS2LZtPhnN8NKIbDb9sY2Mxh3pMj7RvZDvTXtQGI3XxYlqVCexQpyfVsgPJsfyOf97PJP1\nMoamlnTHt/b53q8TTvCJe8tXL06vi8ugVWe97KHK0usmpgru6+kGYKAv7d/Y8Cgic2hiHb+Zzsbs\nBlZOPmhmGXzgOtkd+OoQlwMPHehNQggfMbNh4BPAT83sBSGEPTPr8lOdtnwedx0DC8qLiFQqZYRF\nZK50459IV83w+juBVWZ22aTj7wdWlzj/WiAH/HVcQeIppls1IoTwSXyy3anAzWa2bIZ9FhGRY0jZ\nZoQLec8I73zo0eRYzYhPQstmPVZXNFGtJn4mWLzE/2X0mtf/bRLbFRNbhYKfM1a0ymljo0+4C3Ey\nWj6frr0/NOBLozU1xH/FrUozwiFu6pEp+ihicbOLrn6/rrGp6Pwq35yjKR5rqEsvHBvz5xoY8Mlv\nd939qyS2eq3P1alrnAfA5kfTCXjNDUU7g4jMshDCgJn9ArjYzL4CPEK6vu+B+EfgRcANZvYNfGOM\nC4C1+DrFl06634Nm9ibgM8A9ZnYDvo5wO54p7geeO01/P2NmI8DngVvM7HkhhG1TnS8iIsc+ZYRF\nZC69DvgB8GJ897gPcYArKcQVHK4AHgBeg+8ktwU4F9g6xTWfxXeU+098oPy/gd8GOvBNMvZ3z+uA\nP8QzzreY2XEH0lcRETk2lW1G2OJ2EY0Ta4sBJ5x4EgD1cZmxZa3pfJumQty6eIEfW/DiNHF094Oe\nRR3PeZuFUJveJ25UEQqeXc6NDyWxJ7f5dYvavZ63tT3dbKOqpsWvtzTr29fjy7LduvEOAE499fQk\nlhvvB6B/wGt8F46mS79lC56xHh/162//+W1JLGTbATjxpNP8vlXpZ58ntngd9LnnXYjIXAghPAa8\nbIqwTXG8+PrvUTqDfGX8r9Q1P8d3h5uu3S1T3T+E8DXga/vrm4iIHPuUERYRERGRiqSBsIiIiIhU\npLItjZjQvjKdKH78CV7ut+eRXwLQesYzk9i3/sM3o1pY5xPpzh1Kd2ebWCJtfNw/NzQ2Lkpi42Ne\nsvDoIw8C0Nub7uK6eJGXLzy51csZW1rT66pjSUVPT39y7I7b7wNgx5N+bP269I+nurYOgH17fYm1\npW25JNZQE8tA6psBqG9qSWIdXX7+ylGfxDc2mk7mGxvV8mkiIiJSuZQRFhEREZGKVMYZYc+SVi9K\nN4pqWeqT1h665UYA2mrTzOm/P/AwAOt27wXg0Y40I7yt2yfAnXLKOgAaaUhi/f1+3g+/5xPUWlrT\nTG329BMAWNjumeDRsfEktrdjFwDDI+l8nYXzjwfguMvjxLZsutnGQ5t8f4CaOMnu9p/8Mr2uzTfb\naFvtG2q1taWT8izrmeTaWs9A19fXJ7FC0fJxIiIiIpVGGWERERERqUhlmxEO8XUsn2Zot259HICR\nHb7d8Fc/9cU09vhuABZ2ePZ3z+Npre/eOs8ADwx4rLEx3YiiO57f3eX1tiuWptnYbdt8l9YQa4u7\n+op24qjyLHE+X5ccam70a7PBzy/eKnlwyDPVixd4nfM9/3NPEhtp82zveJ3XCK9Ze3ISa5rvm3rV\n1fl9li1fnsQeeyTdbERERESk0igjLCIiIiIVSQNhEREREalIZVsaQdzpLTsWkkO3/uQmAPr37gSg\nezhdSuw5cULb8fUZAIZWpOUPJy33SXK9u73UIZdPlzzbtc13Zzvj2WcAsH71yiR2870/BaCu3z9v\nNIzlk1hdvZdSDI+kfegveF+b6vze82rTXeeazCf95Qa81KMmpM+VyfhkuUz9fD+QNsm8Nm8rF88v\nvl9tXbpDnoiIiEilUUZYRERERCpS2WaEDc8ID2x5Mjk2P+fHuls8E/qspe1JbEmVZ1NH+33S3M6F\nNUms9ZRTANi32yfQ/fhndyWx1fN9gtuydb5xR0/c8AKgd8AzwD0DPuktX0gnvxUyntkdHksn0A0O\nDXusyj+f3HPHr5PY3s2eec40er+yg11JbN9uz2L/ek+fP8uyVUlseMQzz81tCwFY2p4+8/HHn4CI\niIhIpVJGWEREREQqUtlmhEPGa2IHejuSY8vqPROcXe0Z0wW96YYVmVH/urHe63LDcPoZYWDQs6q1\nC315sp5du9Lrhjy2YIlvp3z9576UxPb1+5JnuWd7ZnjZycelHYxt1tU3JYfGgmd2x3o7/dXSDS9a\n2jxjPV7wTTmyIa3vrYk1wru2eL+WNKSbiDQu9+cY6PQM8i8ffSyJrV+/DhEREZFKpYywiByVzCyY\n2caDOP/SeM2GScc3mlmY4jIREalgGgiLlImDHTiKiIhUurItjcjh5QgZxpNjzcNe/tA76kuIrahN\nywvqYtlDpsqv63s0nWTXMzIAQHbIk0ovWJ1OMuvs9aXU9j3kk9kKI+nkt1ObfIJae3U9AP1dRaUY\n8d5LFqQT2/Z1+o53QwM+6a0umy6fZtV+fnVVYzxnNIlVxV3jlsf77d2xO4mddMp6AJraWv263r4k\n1t8/gEgZuRNYD3Ts78TD5f4dvUe6CyIiMo2yHQiLSGUJIQwBDx3pfoiIyLGjfAfCwTO7HTu2JYeW\nxw00Rjt9Etu+fUWJo5h8Hct7BnlXb7r5xdjZZwIwEtta3zOUxAq7fWLb3V0PA5ApWg7t4rUnA/Dr\nbb7s2i9+nk6ym79oMQC7t+xJjtU1era3Juv9bC2uahzxfuXy3n5VQzrJbk+c6NcfJ+DlB4eT2BNb\ntwBwRvtZAKxYsjRtspBOxpO5Z2ZXAi8DngUsBcaB+4BrQwjXTzp3C0AIYU2JdjYAHwCeG0LYGNv9\nYgxfMqke9poQwoaia38PeAtwOlADPAZ8Ffh4CGG06LqkD8BpwIeAVwILgIeBDSGE75pZFvgr4Cpg\nJbAD+EQI4f+U6HcV8KfAH+OZWwMeBL4A/FsIoeQb0syWAR8DXgQ0x2v+KYTw1UnnXQr8dPIzT8fM\nXgS8DTg3tr0d+DbwdyGEnumuFRGRY1/5DoRFjj7X4oO4W4BdQDvwEuDLZnZyCOGvZ9juvcA1+OB4\nK3BdUWzjxBdm9mHgPXjpwFeBAeBy4MPAi8zshSGEcZ6qGvhvYD5wAz54fi3wLTO7DHgTcB7wI2AU\neBXwKTPbF0L4xqS2vgz8PvAk8DkgAL8DfBq4CPiDEs/WBtwO9OCD/Vbg94CvmNnyEMI/7PenMwUz\n+xv859YF/CewF3gm8C7gJWZ2fgihb5omJtq5a4qQlmURETnKle1AuAbfvGK8P63R23HvA36s0Wtq\n+zrTWtrmak+iNdY2+DmjuSTWv9MzwWvjhhetnWmbjfs8I1w34PW2NWNptnhBn9cPD+/xeuN77r4n\nieXM5ylW1dQnxxpavE65utqzvvOLaphbqvy8psYWv19rcxLbm/N+zV/oNcKrFi9OYr968DcAbLrP\nn90a0vstWLkMgBe84MXIYXFaCGFz8QEzq8EHkVeb2WdCCDsOttEQwr3AvWb2AWBLqWyomZ2PD4Kf\nBM4NIeyOx98DfAf4LeB/44PiYsuAu4FLJzLGZvZlfDD/78Dm+Fw9MfZxvDzhaiAZCJvZa/FB8D3A\nc0IIA/H4+4Gbgd83sx9MzvLiA9N/B14zkTE2s48CdwF/Z2bfCiE8fnA/MTCz5+KD4J8DLynO/hZl\n2K8B3nGwbYuIyLFDq0aIHCaTB8Hx2Bjwr/iH0ufP4e3fEF//dmIQHO+fA/4SKAB/MsW1by8umwgh\n3Ao8gWdr3108iIyD0tuAZ5hZpsT9r54YBMfzB4F3x29L3T8f71EouuYJ4F/wbPXrpnzi6b01vr5x\ncglECOE6PMteKkP9NCGEs0r9h+qVRUSOemWbERY52pjZKnzQ93xgFVA/6ZTlc3j7M+PrTyYHQgiP\nmNl2YK2ZtU4aGPaUGsADO4G1eGZ2sh1ABlgSv564f4GiUo0iN+MD3meViG2LA9/JNuKlIKWuORDn\n4zXarzKzV5WI1wALzaw9hNA5w3uIiMhRrmwHwrf+4McAFEbS+T/ZuLRZTSw5sHkNSSwz6uUFC+p9\nwlrtcHcSG7v/QQDazH9cuaJYYdiva897rL5ovlFTt593zomrARg9YWUSe+xJHx/s7kj/ju2LbY3H\nCXvbOtL75Mc9ITZuXvKRyaRLqw2P+3NdeP75ADwaSzIAVq/xe4/s9rY2b053lmvrOmpWmSp7ZnYc\nvrxXG3ArcCPQiw8A1wCvB2qnun4WzIuvu6aI78IH5/PwetwJU63/lQMIIZSKT9QVVRcdmwd0xQz4\nU4QQcmbWASwq0daeEscAJrLa86aI7087/vvvA/s5rwnQQFhEpEyV7UBY5CjzTnzwdVX8p/dErJ99\n/aTzC3hWspTWGdx/YsC6BK/rnWzppPNmWy8w38yqJ0/IiytPLABKTUxbXOIY+HNMtDvT/lSFEObP\n8HoRESkDZTsQvuH6rwFwTlu6zFghZlHHc55dHWytS2INwSfLjcescUtz+q/W7T1e0tie8yXVhgr7\nkthYlZdB1o95W7WWTrKrjxPnnrn2dACedfFFSayv4Jnd3XvThNeTOz3J1R031Nizb28S6+jzv++7\nR73NXN9IEuvd5f05KS7JZunKb1Tn/bmqqv2PetXqNCt9ytnnIIfNxC4s3yoRu6TEsW7gmaUGjsDZ\nU9yjgJcklHIPXp5wKZMGwmZ2ArACeGIOlwy7By8JeQ5w06TYc/B+313iulVmtiaEsGXS8UuL2p2J\nO4CXmtmpIYQHZtjGfp22fKYJaxERORw0WU7k8NgSXy8tPhjXsS01SexO/IPqVZPOvxK4cIp7dOJr\n+Zbyhfj6fjNbWNReBvhH/HfB56fq/CyYuP9HzCypSYpffzR+W+r+GeBjcQ3iiWvW4pPdcsD1Ja45\nEJ+Ir5+N6xQ/hZk1mtmzZ9i2iIgcI8o2IyxylPk0Pqj9dzP7Fj6J7DTgxcA3gVdPOv9T8fxrzez5\n+LJnpwMX4Gve/laJe9wEvMbMvo9PYssBt4QQbgkh3G5mf49vfnG/mf0HMIivI3wa8DNgxmvy7k8I\n4atm9nJ8DeAHzOy7+DrCV+CT7r4ZQvhKiUt/g69TfJeZ3YjXBL8aLw/5qykm8h1If24ys6uBjwCP\nmtkP8ZUwmoDVeJb+Z/ifj4iIlKnyHQgPe4lDf2NaJ9Bf6+ULY3VeetlXm/6Lc3bUE04tcf3g0Ux6\nXbbKywvq8h7L1KRzgGqz/iOsHvFyi6qqdFMvMz+2/WHfdS6bTxPw9S1e5rm4Pi3BOGHlWgBqmj02\nVrTz20gsuRiKc42yw2ls8/2+StOObVsA2L2vK4kNDfszLli0AICLL0yTie3LVyCHRwjhN3Ht2r/F\nN9HIAr8GXoFPTnv1pPMfNLMX4Ov6vgwf1N6Kr3bwCkoPhN+GDy6fH+9Rha+Fe0ts891mdg++s9wf\n4ZPZNgPvx3dqe9pEtln2WnyFiDcA/yse2wT8E77ZSCnd+GD97/EPBi34piT/WGLN4YMSQviYmd2G\nZ5cvAl6O1w7vAP4vvumIiIiUsfIdCIscZUIItwPPmyJsJc7/GV4/O9lvgA0lzt+Lb1oxXR++Dnx9\nf32N566ZJnbpNLErgStLHC/gmfFPH+D9i38mf3gA52+k9M/x0mmu+Rme+RURkQpUvgPhMc+Y7hgc\nTA61N/vEua449+ix7elEtaV5X7mqucXPGSFNju3Ez99b5W0uzKWZ3cGcZ4CH47GxuvRHOpz1eUtj\n455d7rlnUxIbjcdy1Wl2ubrJ7x0afPe4kEn/Tq+L7bY0e1a7umhOVNjrk+pqOn2JNOtK5zuFNp+s\ns2KVl44uW5lmgetaZrL4gIiIiEh50GQ5EREREalIZZsRrqvz2tu+TDrW3zvfM6A7On2Zsh1DaR1w\nb0y+nhS/ry5awrWwrB2A4So/aXjLjiTWPe7Z4sHgGdrhTLonQl+1t7Himb75VfPitUlsZI9ncbfv\nSvc36OjzZdPuvPdeAJoa0uXdljT5133jvmxaoZD2fbzW/xizsTy5Lps+82iNxybqmuua0k1Elq+c\naoEBERERkfKnjLCIiIiIVCQNhEVERESkIpVtaUQmTkIbqU8no53ysssB6LrtpwAsqUt3nauq90ll\n27b7hLb1mbQsYdnx6/ycZv9+x850x7ftcUJc/biXQfSHdGe5/hpvY+VxJ/r9Ljg/7WAsbVgyOJAc\n+vH3vg/Abbf/DwCrahYlsRNPPBOAxXj9Q9+etA+9Q/0ADI95mcZw0RJuHcMeezwurXZGNl20oKYm\nLeMQERERqTTKCIuIiIhIRSrfjHCcJDdWlS5B9oyLfUnWnbt8stvePX1JbLTez++Ny5COWmMSu+/u\nB/3YyYsBaFm4OIn1Dg8DMF7wbOz4aJqN3Vfr2eK7br0FgOG96SS78bhj7Mi85uTYxod/DcCJp58M\nQGEoXfqt5WSfaHfBsy8AwIqWTxvs8Al3t/zPTX6/n/8yiXWPjAKwYtRfGxvTyXKWSdsQERERqTTK\nCIuIiIhIRSrbjHBd3EZ5YDDN+t5y6+0AdG3zjTTWVafZ4lyd1+zeU+11szvr0ozwaL9vVNFd8CXZ\ndsQNLwA6+oYAaGnyzxS5wXQjjl1xPbNF3b7lcf8vu5PYSDzvidq0hrmj1zO76xd4bfDIeLqN8q0x\ny9uE92Hp4qVJLB+fY9+Y36+fdGm1k048AYAVMYtdX1QXbBl9DhIREZHKpZGQiIiIiFQkDYRFRERE\npCKVbWlEU2sbAGeuODE59uBDDwMw3OWlCqdn08cfHPId28bisV2WlhesOtn3m6tZsBCAbHt7Equq\n88lnKxf4/QqPtyYxa4zLs/k8OroHepJYNi7dVlNfnxxrHvcyi3bzso7qeWnstjjB75Y77gRgST7t\nez5OiBsc8esX5NLyh8VV3r++3l5/vtG0dCMtDBERERGpPMoIi8gxwcw2mlnY/5lPuSaY2cY56pKI\niBzjyjYjPBL/uly9em1ybO360wC4u/ZmAMYeeSiJDfV7NrUnbnSxZyidZLe4yieaVec8tbt4cbp8\n2tJ2/7qx2jfPOHtFer/MuGdfR3f65Ly9HemPOzfksQFLJ8vVZ31Tj5VNnlXu6+tPYjVZb7835/1r\nDunSZzVxD4+GrGd/m7PpEmn5IQ8OBc94j+fSDT9MOWERERGpYGU7EBYRAdYDQ0e6EyIicnQq24Fw\n+/JlAHR1p1nVxYO++cWqk33L5O7770ti4yFuwNHg2dT2ZauS2AmnnwFA20pfsqyqKJNal/PMbNa8\nLnckbqwBMNDjtch1VbHWd2FaW8yA96VhLK1FnvfkdgAy495GXdEfTzbr7XcOe2a3pS3dHno0Zp67\nuzoB6A9pH+rq/Lq6Rl8OLpNJ26xSRljKXAjhof2fJSIilUo1wiJyxJnZb5vZTWa2y8xGzWynmd1s\nZm8qcW7WzN5rZo/Gc580s4+ZxVmmTz33aTXCZrYhHr/UzF5vZveY2bCZ7TWzL5jZkjl8VBEROYpo\nICwiR5SZ/SlwA3AK8H3gn4AfAvXAVSUu+SrwF8CtwLXAMPBXwL8d5K3fAXwG+DXwSeDheL/bzWzh\nQT+IiIgcc8q2NOKFV1wBwO6RtDxwybKVABSqfMLY/T+/PYn17PJd3UKtlzo8/7dflsROe8aZMeYT\n20aHhpNYfsCXLsuNeZlBLptOaq/Cd4arjRvE5fKjSay7x3eZG+rqTY8NetlD7/bNfr/iEoymZgAW\nrFkNwPHr0mXhBnPe7taNGwHojMvDAbzwgnMAeMaq4/36Benf7yqMkKPE/wLGgNNDCHuLA2a2oMT5\nxwOnhhC64jnvwwezf2Rm7wkh7D7A+14OnBdCuKfofp8A3g58FPjjA2nEzO6aIrTuAPshIiJHiDLC\nInI0yJGsuJ0KIXSUOPfdE4PgeM4g8BX899nZB3HPLxcPgqMNQC/w+2ZW+/RLRESknJRtRnjpcccB\n0J5N856ZqjghLi4htvyMM5LY42Oe5b0oHjvz7HOTWFXGSw/HCjHDm01LEWtafFmzmpp4rK5oMlq8\n9cQCaWOFNFvcNOJliPnBweRY925PZO3ctineN11arXWpT/576at+D4Alq1cksbFaf672E3zpto59\n6djh0kue589a1wJArir9eSgjLEeJr+DlEA+Y2TeAm4HbQgj7pjj/VyWOPRlf2w7ivjf9u5pzAAAg\nAElEQVRPPhBC6DWze4FL8BUn7t1fIyGEs0odj5niMw+iPyIicpgpIywiR1QI4ePA64FtwFuB7wB7\nzOynZva0DG8IoWfyMTyjDJApEZvKnimOT5RWzDuItkRE5BhUthnhkPUxfjZTlPeMtbr15n9XnnzR\n+Umo/jSvuV243GtpmzNp1jcXm6jJxKXSijLCmdjmxEeK8aLb5YIHJxZIy4Q0WFvjP3qrbkyOnfCM\nkwH4xY3fBqCaNIO89gTv3wknedlhXXWaLc7Fzbaed87F8UAhiTVUe19DzEZXKSMsR6EQwpeAL5lZ\nK3AB8DvAG4Afm9n6ybXDs2TxFMcnVo3onSIuIiJlQhlhETlqhBB6Qgg/DCG8EbgOmA9cPEe3u2Ty\nATObB5wBjACb5ui+IiJylNBAWESOKDN7sZmV+tepRfF1rnaGe52ZPWvSsQ14ScTXQgijT79ERETK\nSfmWRkyURKTVBVg8ZAX/orqlJYktbG0FoAYvJajKpRdWT2rLitpM7hePZULR8mk2UaIQyxKKftx1\nsUShYOlnkZUn+NJoq8/zuTfDPSNJ7DkveCEA2ayXRGQKaWHDRAs1cZK7FU0QTPo6UcNhxaURKo6Q\no8LXgREz+xmwBa/auRg4B7gL+J85uu+PgNvM7JvALuCi+N8W4Oo5uqeIiBxFynYgLCLHjKuBF+Er\nLLwEL0vYCrwbuDaE8LRl1WbJJ/CJeW8HXg0M4OUY752lmuQ1mzZt4qyzSi4qISIi+7Fp0yaANXN5\nDwuhRHpTRKRMmdkG4APAc0MIG+fwPqP4Kha/nqt7iOzHxKYuDx3RXkilO5T34RqgL4Swdva681TK\nCIuIzI37Yep1hkXm2sSuh3oPypF0tL8PNVlORERERCqSBsIiIiIiUpE0EBaRihJC2BBCsLmsDxYR\nkWODBsIiIiIiUpE0EBYRERGRiqTl00RERESkIikjLCIiIiIVSQNhEREREalIGgiLiIiISEXSQFhE\nREREKpIGwiIiIiJSkTQQFhEREZGKpIGwiIiIiFQkDYRFREREpCJpICwicgDMbIWZfcHMdprZqJlt\nMbNPmlnbQbYzP163JbazM7a7Yq76LuVjNt6HZrbRzMI0/9XN5TPIscvMXmlmnzKzW82sL75frp9h\nW7PyO/VQZQ/nzUREjkVmdjxwO7AIuAF4CDgXeBvwYjO7MITQeQDttMd2TgJ+AnwdWAdcBbzUzM4P\nITw+N08hx7rZeh8WuWaK47lD6qiUs/cDpwMDwHb899dBm4P38oxpICwisn+fxn9hvzWE8KmJg2b2\nceAdwN8Bf3YA7XwYHwR/IoTwzqJ23gr8c7zPi2ex31JeZut9CEAIYcNsd1DK3jvwAfBjwCXAT2fY\nzqy+lw+FhRAOx31ERI5JZnYcsBnYAhwfQigUxZqBXYABi0IIg9O00wjsAwrA0hBCf1GsKt5jTbyH\nssLyFLP1PoznbwQuCSHYnHVYyp6ZXYoPhL8SQvjDg7hu1t7Ls0E1wiIi03tefL2x+Bc2QBzM3gY0\nAM/eTzvnA/XAbcWD4NhOAbgxfvvcQ+6xlKPZeh8mzOzVZna1mb3TzC43s9rZ667IlGb9vXwoNBAW\nEZneyfH1kSnij8bXkw5TO1KZ5uL983XgI8A/AT8EtpnZK2fWPZEDdlT9LtRAWERkevPia+8U8Ynj\nrYepHalMs/n+uQF4GbAC/1eKdfiAuBX4hpldfgj9FNmfo+p3oSbLiYgcmok6y0OdcDFb7UhlOuD3\nTwjhE5MOPQy818x2Ap/CJ3X+aHa7J3LADuvvQmWERUSmN5GdmDdFvGXSeXPdjlSmw/H++Ry+dNoZ\ncdKSyFw4qn4XaiAsIjK9h+PrVPVqJ8bXqerdZrsdqUxz/v4JIYwAExM5G2fajsh+HFW/CzUQFhGZ\n3sQ6mZfFZc4SMWt2ITAM3LGfdu6I5104OdsW271s0v1Eis3W+3BKZnYy0IYPhjtm2o7Ifsz5e/lg\naCAsIjKNEMJmfGmzNcCbJ4WvwTNnXype79LM1pnZU3ZcCiEMAF+O52+Y1M5bYvs/1hrCUspsvQ/N\n7DgzWz65fTNbAHwxfvv1EIJ2l5NDYmbV8T14fPHxmbyX57Sf2lBDRGR6JbYD3QSch6/5+whwQfF2\noGYWACZvWFBii+U7gfXAy4G9sZ3Nc/08cmyajfehmV2J1wLfjG9q0AWsAl6C12z+CnhhCKFn7p9I\njjVmdgVwRfx2CfAi4HHg1nisI4TwrnjuGuAJYGsIYc2kdg7qvTyXNBAWETkAZrYS+CC+BXI7vvvR\nd4FrQghdk84tORCOsfnAB/C/TJYCnfgM/b8JIWyfy2eQY9+hvg/N7BnAXwJnAcvwiUn9wAPAN4F/\nCyGMzf2TyLHIzDbgv7+mkgx6pxsIx/gBv5fnkgbCIiIiIlKRVCMsIiIiIhVJA2ERERERqUgaCE/D\nzJrN7ONmttnMxswsmNmWI90vERERETl02mJ5et8GXhC/7sNn1+47ct0RERERkdmiyXJTMLNTgfuB\nceA5IYTDsrCziIiIiBweKo2Y2qnx9TcaBIuIiIiUHw2Ep1YfXweOaC9EREREZE5oIDyJmW2Ii5Bf\nFw9dEifJTfx36cQ5ZnadmVWZ2VvM7E4z64nHz5jU5rPM7Hoze9LMRs2sw8x+bGa/u5++ZMzs7Wb2\nGzMbNrN9ZvafZnZhjE/0ac0c/ChEREREypomyz3dALAHzwi34DXCxTucFO+4Y/iEupcDeXx3nqcw\nsz8FriX90NEDtAKXAZeZ2fXAlSGE/KTrqvFtBy+Ph3L4n9dLgReZ2Wtm/ogiIiIioozwJCGEfwwh\nLAHeFg/dHkJYUvTf7UWnvwLfGvBNQEsIoQ1YjO+7jZldQDoI/g9gZTynFXgfEIA/BN5ToivvxwfB\neeDtRe2vAf4L3yteRERERGZIA+FD0wS8NYRwbQhhCCCEsDeE0BfjH8J/xrcBrwkhbI/nDIQQPgx8\nNJ73bjNrmWjUzJrwveAB/ub/t3fnUXJe5Z3Hv09tXdWr1K0FSbYs2Sw2mAA2wxIO2B4mrCcDk4GQ\nDJzBcOCEnUDIwEAIBsKSWVgGJkDC4gwhAxlIwhDwwQlgMDAewAZ7bGQbbEtGsmRrbfVa650/nlt1\nX3e6W1u3urvq9znHp7rfe9/73mrVkZ5+/Nx7QwgfDSHMxHv34AH4nmV+byIiIiJdTYHwmTkMfHa+\nBjMbBa6I335gbulD9KfALB5QPydz/ZnAQGz7b3NvCiHUgQ+d/rRFRERERIHwmflJCKGxQNvj8Bri\nAHx3vg4hhHHgxvjtJXPuBfhZCGGhXSuuP8W5ioiIiEiGAuEzs9gpcxvj6/giwSzA3jn9ATbE1/2L\n3HffCeYmIiIiIotQIHxm5it3mKvvNMa1k+ijIwFFREREzoAC4eXTzhZXzGzjIv3OmdM/+/WWRe7b\neroTExEREREFwsvpp6Ss7RXzdTCzEeDS+O1Nc+4FeGzcQWI+Tz3jGYqIiIj0MAXCyySEcAT4Tvz2\nrWY238/6rUAZP8TjG5nr1wJTse21c28yswLwpiWdsIiIiEiPUSC8vN4JtPAdIb5oZueA7xNsZm8H\n3hb7fTCz9zAhhAngw/HbPzGz15tZJd67HT+cY+dZeg8iIiIiXUmB8DKKp9C9Bg+GXwjca2ZH8GOW\n34cvivsC6WCNrPfimeECvpfweLx3D77n8MszfavL9R5EREREupUC4WUWQvgU8C+Av8a3QxsExoF/\nBF4YQnjJfIdthBBqwHPxE+ZuxYPpJvA14GmksgvwwFpEREREToGFoF241iIzezrwT8CeEMKOFZ6O\niIiIyJqjjPDa9Yfx9R9XdBYiIiIia5QC4VXKzPJm9mUze1bcZq19/VFm9mXgmUAdrx8WERERkVOk\n0ohVKm6RVs9cOo4vnOuP37eAV4cQ/vxsz01ERESkGygQXqXMzIBX4ZnfRwObgCJwAPge8JEQwk0L\njyAiIiIii1EgLCIiIiI9STXCIiIiItKTFAiLiIiISE9SICwiIiIiPUmBsIiIiIj0JAXCIiIiItKT\nCis9ARGRbmRm9wDDwO4VnoqIyFq1AzgeQti5XA/o2kD4/b/zqAAwMtjfuZYLDQBaMRGeKxQ7baFR\nA6CY8+3kcrnUZvl8/KoJwPRUo9M2W2sBUBr2tnJxsNPWqnm/ZmPax6bVaevvL/kXhVLnWrXmXzfr\nVR8zM7++ih8ul+vz+RWLaay8xaHyhdiWGbPaiK/xHeSq6X2V/H399ru+aYjIUhuuVCqjF1100ehK\nT0REZC3atWsXMzMzy/qMrg2EhwZiAGwpxmu2/Ou+ciW2pf4WY11rNubeRnun5XwMNEt9qTGYB5bV\naf+DKvTlO2254MFqPswC0D/Q7LSNbvAgt9FKY+3dOw5AK47VsLTHc6Plh8y16n1xrEqnrVLyebVa\nMYjP3GdFD/pDox04pyC5VVf8K6uPme0GCCHsWNmZnLHdF1100eiNN9640vMQEVmTLr30Um666abd\ny/kM1QiLiIiISE/q2oywiMhKu3XfODve9vWVnoaIyIrY/cHnrvQUTqhrA+FiLJytNVI5Qq3u5QFN\nvFShUk5lAoVYB5yL1QLNZqoDJsTygmasLc6l0oNCwfuVYl1uPlMHTCvWHRd9Dn3FehqyOQlAdXa6\nc63c5+USrfic9SOp3rhRiHMoe2nE0NBwp23iyCEfv+zvYXZqcu7Uacaa52Y9/ZFXykOIiIiI9CqV\nRojIWWfudWZ2m5nNmtk+M/u4mY0scs/vmtl3zOxovGeXmf2RmfUt0P9CM7vazH5lZlUzu9/M/trM\nHjFP36vNLJjZ+Wb2ejO7xcxmzOy6JXzbIiKyynRtRjjEjO5sNWVh2wvTWsQFcaTMbr7sGdNiPmZe\nM78jNOMitGbTX6v1tILRcp5dHqp4hnZyfKrT1h//ec7nPSNcsPTjtuBzCa3ZzrWhQc8q5yq+yLy/\nXO60TTcmANgw6osAK+X0b//4vvE4qI+/YWPKFjfM3+umix4JwI+v/3+dtlI9ZcRFzrKPAG8A9gN/\nDtSB5wFPxFd01rKdzewzwMuBvcDfAseAJwHvBZ5uZr8RQmhk+j8r9isCXwN+CZwD/BbwXDO7IoRw\n0zzz+ijwVODrwDdobxWzCDNbaDXchSe6V0REVlbXBsIisjqZ2a/jQfBdwBNCCEfi9XcA3wG2AHsy\n/a/Eg+C/A14cQpjJtF0FvAt4LR7EYmbrgf8JTANPCyH8PNP/UcD/BT4NXDLP9C4BHhdCuGdp3q2I\niKxmXRsI5zp7/6aMcLPl9buDfZ5VtWZKOtXr3q+Yj1nS7NZqOc8ON+pxT97ZlPXdsMGztrMzcazM\ndmj5WHBcnZ2N96e26dn4o8/sFVyM27LVYzK6mssko+LX08cPe9vxNId1w17rOzASt3crpizz+hEf\n/4Kd3ufQ7rSl6e47H0BkBbwsvr6vHQQDhBBmzew/4sFw1huBBvDybBAcvRd4HfBiYiAM/HtgHfC6\nbBAcn3Gbmf0F8Ptm9si57cB/OtUgOIRw6XzXY6Z4vmBbRERWia4NhEVk1WoHh9+dp+16IFvi0A88\nBjiEB6/zjVcFLsp8/+T4+piYMZ7r4fH1ImBuIPyjxSYuIiLdRYGwiJxt7QVx989tCCE0zexw5tJ6\n/P/PbMRLIE7GWHx95Qn6Dc5z7cBJPkNERLpA1wbCIR4V119JJ7Dla16+kI8lEoVMWYKZX2uFuIAu\nl9lQI1Yo1OPRx/2l9GNrH6N8fNIzVc1aKmeYmfX/i1uPC93WrU/blQ2W1gFQqqxPc44L9SYnvezB\nQppD+6jk4WGPIQb60uL68rCXcxTiMc8P7ElrgDaUfeHc0V/dCsDOzEK6wuxWRFZAXN3JZuDubIOZ\n5fFAdt+cvj8NIZxsmUH7nseEEG45xbmFE3cREZFu0bWBsIisWjfh5RGXMScQxnds6Py9FEKYNLPb\ngEeZ2Wi2pngRNwD/No51qoHwkrp42wg3roEN5UVEelXXBsK5XDwgI5PfKRU9A1xot+Wy/T2jWyj4\nj6SV2TWpFbdNM/y+6nSqU2zUPJM8Ne0Z2/pMOiBjaMjHGBzxBXWbzzuv0zY87NnYo4eOd65NTR4F\nYF3F/89us5HvtG3ffi4A27Y/FIB8KqOkVPEMcn7A51KdSFnm41N+rTjmY+ZSQpidj92CyAq4GngF\n8A4z+2pm14gy8IF5+n8I+AzwWTO7MoRwLNsYd4nYmdkO7XPAO4B3mdmPQwg/mtM/h+8mcd0SvicR\nEVmDujYQFpHVKYTwAzP7GPB64FYz+zJpH+Gj+N7C2f6fNbNLgdcAd5nZN4F7gVFgJ/A0PPh9Vex/\n2MxegG+3doOZfQu4DWgB2/HFdGNAGRER6WkKhEVkJbwRuBPf//f3gMN44Pp24Oa5nUMIrzWza/Bg\n91/h26MdwQPi/wz81Zz+3zKzXwPeAjwTL5OoAfcB3wa+sizvSkRE1pSuDYSbLS9LqNXSXsH5WPbQ\n2SM4UzaRi3USFkskQjM1tkJcSNf0tumpVDaRi6fGNZu+D3E+rb9j40ZfELdt+wAAm89PJ7u2mn7t\n8KGjnWulgj/z3K2bAZiZzeyBbL7wbu+BOwDYufOc1BZ8bdDR/Yf8PRTSiXGl/of46zo/5CpXSiWW\nhdIAIishhBCAj8f/5tqxwD3/APzDKTxjN77H8Mn0vRK48mTHFhGR7pA7cRcRERERke7TvRnhpmdq\nsxvwF+Jpc/m4WK7VaGTuiNufNfy+aq3aaWk0PFN77Fhc2NZMmdrhQc++hjhWdsy+sqeHK/398REp\nyzwx5WMdm5joXBvs9/4HDv7Kx8wsiBsa8+ds3botzmm803b00APxmo81PLo5/RzyvjruJzd7JvlJ\nV1zcaZua8EV26aw5ERERkd6hjLCIiIiI9KSuzQjnY81vq5Wp9Y0HadRj/W8uk6FtZ45r8dCM2ZmU\nEc7nPRubjzW85Ur6/WEgbpFWir9TzEylDPSRI17/Wyp5n0PjM522mbpnf5vZ30X6/KCrZsEPAcmc\n24HF7dzqk54lPnR8stNWjxnrzRt9i7SBkQ2dtqmWj3nuDh9z4njaku3GH3qW+NzHISIiItJzlBEW\nERERkZ6kQFhEREREelLXlkYEy8fXVP7QLomo1+IiNEtlAjbrZRPj414SUa+nLdL6y7MADBS8/+Bg\nKn9oBV9wtmGdb0U2mU9jNoP/eI/E091qx9LCuFrT59Ak9X/ow317taF1m7xPNW2t1qrfD8BUw681\nM1ukVfp8i7R79/miuc2W5r75gnii3Drvc83X/qnTdu+dv0RERESkVykjLCIiIiI9qWszwgcP+sK0\nai1tdVatemZ3ctbbGq3Uv1HzzOzMtF/MFVKmdnTEM8AP3+LboNVnU6Y25D2DXAi+KC27XVuu6P0n\n4rq7amYB3kO2eQZ50+bhzjXDF8CtW+8Z4anJdBhIc9b/qKrB5zWwfmN6ThgBYPawZ5mnZtLJsYcO\n+DZt3//mjwG4+447Om3nb9mCiIiISK9SRlhEREREelLXZoQP7PesbT6f3mL7GOV8zutrW5kDK4pF\nz7Q2+/z7qWrK3u4/4lnloZLXGJ+/NR1N3Ff2+8anvc9MLWWS+0pDAGwYW+/PKE132sZiQnd4XV/n\nWm3WM9YPHNjlc5lJW6QNFuMYwbdGm66l99U/6lnoXJ9vyVaqpCMydt12DwB33vgzAC75tUd32jaO\npGy0iIiISK9RRlhEREREepICYRERERHpSV1bGrHpIV6WUCqlbcYaDS+FmJzx+L8RKp22VmfHMV9I\n18xlfjR5X3y25/5jAGwc29xpGl7vZQgHx73sIVcY7LSNT/jzyg0vs9i2dSzNpeoL4eqz6Tkbxrz9\n7l/c7hdqqTQilLz/8am9fl/fuk7bI3deDsBYPLhuaiqdYHfowDgA523wOY9V+jtt5Zx+D5LVxcx2\nAPcAfxlCuPIk+l8JfA54WQjh6iWaw+XAd4B3hxCuWooxRURkdVIkJCIiIiI9qWszws2WLzybnknZ\n0WpcANcMniW2fNpmrFTy3wkK6zxjOlZMP5pCyRfH7d7j3//otv2dtseGrQD09fuBFff96kCnrdLv\nC+HW48/bffcDnbaRYX92+zAMgIlxzyDXa56prh6f6rQVhz1l3YgHeBw9khbz3fcLXxD3sIddAMAt\nN9/ZaatN+qLBbVt8S7ZGPd03a2lrOZE16u+AG4D9J+ooIiIylzLCIrJmhRDGQwi3hxDGV3ou87l1\n3zg73vb1lZ6GiIgsQIGwiKxKZnahmf29mR0xsykz+76ZPWNOnyvNLMRa4ez13fG/YTP7UPy6bmZX\nZfpsNrPPmNn9ZjZjZj8zs5eenXcnIiKrQdeWRuRzvmgthHTSW6XPT42rxZVxuUz5Q6vp1wrxWrmQ\nOSEu5yULW885F4A9e9KJb3fv85PbBvu9nKFSSQviNmzwBXtDQ76/b2MmlTrMxK8PHry/c21T3uc8\nOOJ7Bk9NptKF2+70RXLtco7Dx2bT/Opes7Fl1PcFrk2kEozhiu9rPDIcF/HlOqsCKRTTnsciq8xO\n4P8AtwKfArYALwKuMbN/F0L40kmMUQK+DYwC1wLH8YV4mNkY8EPgfOD78b8twCdjXxER6QFdGwiL\nyJr2NOC/hBD+sH3BzD6OB8efNLNrQgjHTzDGFuDnwGUhhKk5bR/Ag+CPhBDeNM8zTpqZ3bhA04Wn\nMo6IiJx9XRsIF/s825k5II5m8GxoMy4Sy26tRjNWiQRvK2eaKn1+3+YBH/Oc0bTArVbzxXil/hEA\ntm55aKft4AHfbq026/cPDZG5z/8N7x9I262Vy54Jnhj3E+wO1dPJd9fdcisArVnPVIeplJUuNH2M\nnTs8E1wpFzttGzd4W6sV4ntupUmEdKqdyCozDrwneyGE8BMz+wLwUuDfAH95EuP8wdwg2MyKwIuB\nCeCqRZ4hIiJdTjXCIrIa3RRCmJjn+nXx9XEnMcYscMs81y8E+oGfLbDI7rp5ri0ohHDpfP8Bt5/K\nOCIicvZ1bUa4VotbpTXSW7QY9g/EQyWy50nUZ/3f3LFhv7hpQ2ocGvJsarniWdiJqdRWKPlBFdN1\nH/PO23/eadt998H4lWeS+9dlDs/Y5AdiTNSnO9duvvMQAHv3HQHg3vtSre9sLdYw130uG0bSwRiD\nQ56+bgavGx4cSRnhqQnPIOcLPofJyYOdttDU9mmyat2/wPX2/oQjJzHGAyGEMM/19r0neoaIiHQ5\nZYRFZDXavMD1dl3SyWyXNl8QnL33RM8QEZEup0BYRFajS8xsaJ7rl8fXn57B2LcD08BjzWy+zPLl\n81wTEZEu1LWlEaHhpQB9hXR6XLk/bo026K+1aipLyMfd0jaNeLlAhbQgvT4RSwhankDqK6dE0tEJ\nL1n45S9/CcCxI6ncoBwX7B05ehiAe/ZmtjzL3wtAKU2PVvDSi8GSlzacu2l9ml/RY4LJg35S3Dmb\nUxsFX1S3//6DcX7p95tG3csmBgZ8a7XZWpqDtbr2j1/WvhHgj4HsrhGPxxe5jeMnyp2WEEI9Loh7\nJb5YLrtrRPsZS+LibSPc+MHnLtVwIiKyxBQJichq9D3gFWb2ROAHpH2Ec8DvncTWaSfyduDpwO/H\n4Le9j/CLgG8A//oMxxcRkTWgawPh/j5PteZy6dCIQtw2jYZnXgdK6dCMoeFRAEpF//fVSNua5XN+\nWMa+vb5V2kT1UKetGjPPBfMf5Yb1aRFbq+VblW3c4FnZ8ybSXm61qs+lWMwc+FHxfn3xcI5aSFud\nPXDIs72jw/6c/swWaQcf8Czvnnv3A7B+ffo/yoODw/H9TQKweWul05ZD26fJqnUP8Crgg/G1D7gJ\neE8I4ZtnOngI4ZCZPQV4P/CbwOOBO4BXA7tRICwi0hO6NhAWkbUnhLAbsMyl552g/9XA1fNc33ES\nzzoAvHyBZlvguoiIdJGuDYRLRV8w3q67BcjnPQs73O/Z1IFKyvoeOuwLyY+2/N+/SiXV4Laa/mN6\n4JiPNVtPYw6P+FqbfMzeNtMZGDSIWd+S96+MpeON+4qeOa6loTr3NuJBGpOzM522gI8/ErO9g8Mp\nm1sYGvA+h73P1EwadGDQ30+h4HXDhWKqHy7muvaPX0REROSEtGuEiIiIiPQkBcIiIiIi0pO69v+N\n53JeJmCk7cwKeS9NaDa8XOCe3fs7bfsPehnCTMP7VPpTWUJ/uRDv9/tGRtKPLYf3a8UT7CyzhX+5\n5L9n5Ap+Xz3za0c1ruGbmkkL4iYmvKSh1fT+tUYqcegr++K/YlwEWOpPcyiXvUxiIC74y6wPZMPY\nGABD/f7wkEuL7WuzaSs1ERERkV6jjLCIiIiI9KSuzQg34uK1fC6tXls34hnTew8cA+DufZOdtmbD\ns6rVmve3XMokbxr1hW19xZhqzWRqWzGDnMMX4AUyq+Vazdjd55IrlzpNtXit0UjPyeU9nTwbt1Zr\nNNPiug396+L78TEarZT2zcdVds2Qstid99X0LduKec8kh2zKOps6FhEREekxygiLiIiISE9SICwi\nIiIiPalrSyOasVygmNk31/BSgGb7xLfNY5226oyXDBw8OAVAq5XKEgrx9LdczsdqtLK/P7TLC/x5\nIaTSiFYID3peM7M4LVfwUopyJf0RtMsY8sVYnpFPC+lC8HIJy3mJw/RUKoMoxGqHgN8/W01zGIr7\nIY8fnwCgfzCVRgwODSMiIiLSq5QRFhEREZGe1LUZ4UZc0JbPVTrXpqY8I1su+sK4VmZhWy5mbStx\nPZuRMqf1mB3O5TyL+6CMcDMuhIuL67Lrz0LMCLea8TVzaGt7kd30dFqwV4hZ4rENflLcbLXaaatW\nPaPbjFu5WeZB9brPoRDnPjy0rtNmOX+v0zOe6Saf3rOh7dNERESkdykjLCIiIiI9qWszwq3gGddy\nPIgCgIZnUQsx/LeQti5rb7NW6fO06tRsqs+txcMyQns7tGbmkA6aD7o/n0s/0q39vq0AAArwSURB\nVJmZWuzvY/UPpkztgQcOAnDkyNHOtfN2bAFgaMgzwuVKsdN2/MgRAOpNPxCjvzzQaZuutbPR3j+f\nT/eFmL0OoZ3NTrXPx46nwzVEREREeo0ywiIiIiLSkxQIi4iIiEhP6trSiHJc9RYyB6lVZ71UYWrC\nyxhy+czKtqa3WTyxrVFNP5pjx7z/+mEf0wqpbKKvz1fAFYK/loqpLKEQV6/V6z6J4xNpoVq95s8Z\nXb+xc21qwufQDJNx7qkEY3DIF73lLJZBFNLpdqHq85me8bKH0dE096mp9pZqvthuoJnuGxpI5RUi\nvczMrgMuCyHYifqKiEj3UEZYRGSZ3LpvfKWnICIii+jajHB7wdhMNWVAqzXPnNYaMatKSv6Y+Y+i\n1OfZ29xU2rpscnwagKGK/94wPJSyvpX2Wry6399ISV8acYu09uvM5ESnbfOYL5xrZ64BajXfzqxW\n9/nNzKSM8ETNxxgeiduhzaZU90zV51Wrev+hgTT3o0fu9y/ai/n6BjttQ8OZjLiIiIhIj1FGWETW\nFDN7gpl9ycz2mVnVzPab2bVm9tuZPlea2VfM7G4zmzGz42b2AzN7yZyxdphZAC6L34fMf9ed3Xcm\nIiJnW9dmhI+Ne/Z1dGy0c2021seGnGdTM+XDnXrhYp9nXoeGU6Z2asrva8VMbZ7UZvGUjGbclayZ\nSQnX4rZms/Fo5dF1aSu3cqX99JS9LcUjlYcr8ejjkbTd2mzd51Br+etkNWWL7z/kNcW5pv9x9vel\n/x2bL3i/gRHPBJfLI522ZtpJTWRNMLNXAp8AmsD/Bn4BbAIeD7wG+JvY9RPAz4HvAfuBMeA5wOfN\n7BEhhHfGfseAdwNXAufFr9t2L+NbERGRVaBrA2ER6S5m9kjgz4DjwFNDCLfNaT8n8+3FIYS75rSX\ngGuAt5nZJ0MI+0IIx4CrzOxy4LwQwlWnMa8bF2i68FTHEhGRs0ulESKyVrwa/+X9vXODYIAQwt7M\n13fN014D/nsc4+nLOE8REVkjujYj3Gp5mUExs51ZPu9lAs32yXKLbJQ0Orq+83W7QqHVmAKg0cic\nOhf3Z8vF3ylyufS7RXsOg4NellAqpcVpzZaXUITs/m5tFvtZGqtY9j+qvjhGayrNYaTqC+imjset\n0mbSiXHbt28CYGhkDIBCdnu3XPpaZA14Uny95kQdzWw78FY84N0OVOZ02bZUkwohXLrAHG4ELlmq\n54iIyNLr2kBYRLpOu2h+32KdzOx84EfAeuB64FpgHK8r3gG8FOhbtlmKiMia0bWBcH+/HxbRyCxe\nq8fFbjFRSz5zoEY7M2sxTVwopLb2V8emfNHb0MBQp609frt7drFcf38/AKVSPNyDtDotHzPI2fm1\nM8iW9zlUG2lB3PGpo95WjH1y6Y9ubL0vgCvnZvy55ZRJ3rxxg8+v6HNuNlMG2nR2gKwtx+LrNuD2\nRfq9GV8c97IQwtXZBjP7XTwQFhERUY2wiKwZN8TXZ5+g30Pj61fmabtsgXuaAGa2pJtrX7xt5MSd\nRERkxSgQFpG14hNAA3hn3EHiQTK7RuyOr5fPaX8m8IoFxj4cX7ef8SxFRGTN6NrSiEYsK6jV0j69\nqeyhHf9nF6q12/xHUq3NdFpq9dqD+k9Pz3ba+vt8wVkwb8uWW7QX6rXnYrn0vHw+98/6dxba5f15\n5UyJg5V9b+FaLJ9o1NJiufGDvmdybdqfM1ga7rS1av7M9ml6rVaaQ/u9iqwFIYSfm9lrgE8CPzWz\nr+L7CI/h+whPAFfgW6y9DPhfZvYVvKb4YuBZ+D7DL5pn+G8BLwT+1sy+AcwAe0IIn1/edyUiIitJ\nkZCIrBkhhL8ws1uBt+AZ3+cDh4BbgE/HPreY2RXAn+CHaBSAm4HfwuuM5wuEP40fqPE7wH+I93wX\nOJNAeMeuXbu49NJ5N5UQEZET2LVrF/gi52Vj827fJSIiZ8TMqvha25tXei7S89qHuyy2yFTkbDjV\nz+IO4HgIYefyTEcZYRGR5XIrLLzPsMjZ0j79UJ9FWWmr8bOoxXIiIiIi0pMUCIuIiIhIT1IgLCIi\nIiI9SYGwiIiIiPQkBcIiIiIi0pO0fZqIiIiI9CRlhEVERESkJykQFhEREZGepEBYRERERHqSAmER\nERER6UkKhEVERESkJykQFhEREZGepEBYRERERHqSAmERkZNgZueY2WfN7D4zq5rZbjP7iJmtP8Vx\nRuN9u+M498Vxz1muuUt3WYrPopldZ2Zhkf/Ky/keZO0zsxeY2cfM7HozOx4/N391mmMtyd+vp6Ow\n3A8QEVnrzOwC4IfAJuCrwO3AE4A3As8ys6eEEA6fxDhjcZyHA98GvghcCLwMeK6ZPTmEcPfyvAvp\nBkv1Wcx49wLXG2c0UekFfwQ8BpgE9uJ/l52yZfhMnxIFwiIiJ/Zn+F/SbwghfKx90cw+BLwJeB/w\nqpMY5/14EPzhEMKbM+O8AfhofM6zlnDe0n2W6rMIQAjhqqWeoPSMN+EB8C+By4DvnOY4S/qZPlU6\nYllEZBFmdj5wF7AbuCCE0Mq0DQH7AQM2hRCmFhlnADgItIAtIYSJTFsuPmNHfIaywvLPLNVnMfa/\nDrgshGDLNmHpGWZ2OR4IfyGE8JJTuG/JPtOnSzXCIiKL+5fx9drsX9IAMZj9AdAPPOkE4zwZqAA/\nyAbBcZwWcG389ooznrF0q6X6LHaY2YvM7G1m9mYze7aZ9S3ddEVOaMk/06dKgbCIyOIeEV/vXKD9\nF/H14WdpHOldy/EZ+iLwAeC/At8A7jWzF5ze9ERO2Yr/vahAWERkcSPxdXyB9vb1dWdpHOldS/kZ\n+irwm8A5+P+puBAPiNcBXzKzZ5/BPEVO1or/vajFciIiZ6ZdY3mmCy6WahzpXSf9GQohfHjOpTuA\nt5vZfcDH8IWd1yzt9ERO2bL/vaiMsIjI4toZiZEF2ofn9FvucaR3nY3P0KfxrdMeGxcriSynFf97\nUYGwiMji7oivC9WoPSy+LlTjttTjSO9a9s9QCGEWaC/mHDjdcURO0or/vahAWERkce29MZ8Rtznr\niBmzpwAzwA0nGOeG2O8pczNtcdxnzHmeyFxL9VlckJk9AliPB8OHTncckZO07J/pE1EgLCKyiBDC\nXfjWZjuA185pfjeeNfsf2T0uzexCM3vQKUshhEng87H/VXPGeV0c/5vaQ1gWslSfRTM738y2zR3f\nzDYAn4vffjGEoNPlZEmYWTF+Fi/IXj+dz/SSz00HaoiILG6eI0B3AU/E9/y9E/j17BGgZhYA5h5W\nMM8Ryz8CLgKeBzwQx7lrud+PrF1L8Vk0syvxWuDv4ocZHAG2A8/BazV/AvxGCOHY8r8jWavM7PnA\n8+O3DwGeCdwNXB+vHQohvCX23QHcA+wJIeyYM84pfaaX/H0oEBYROTEzOxd4D34E8hh+4tHfA+8O\nIRyZ03feQDi2jQLvwv8B2QIcxlfn/3EIYe9yvgfpDmf6WTSzRwN/AFwKbMUXJE0AtwF/A3wqhFBb\n/ncia5mZXYX/XbaQTtC7WCAc20/6M73UFAiLiIiISE9SjbCIiIiI9CQFwiIiIiLSkxQIi4iIiEhP\nUiAsIiIiIj1JgbCIiIiI9CQFwiIiIiLSkxQIi4iIiEhPUiAsIiIiIj1JgbCIiIiI9CQFwiIiIiLS\nkxQIi4iIiEhPUiAsIiIiIj1JgbCIiIiI9CQFwiIiIiLSkxQIi4iIiEhPUiAsIiIiIj1JgbCIiIiI\n9KT/D4OKhgafrF9mAAAAAElFTkSuQmCC\n",
      "text/plain": [
       "<matplotlib.figure.Figure at 0x7f27f1f6ab70>"
      ]
     },
     "metadata": {
      "image/png": {
       "height": 319,
       "width": 353
      }
     },
     "output_type": "display_data"
    }
   ],
   "source": [
    "\"\"\"\n",
    "DON'T MODIFY ANYTHING IN THIS CELL\n",
    "\"\"\"\n",
    "%matplotlib inline\n",
    "%config InlineBackend.figure_format = 'retina'\n",
    "\n",
    "import tensorflow as tf\n",
    "import pickle\n",
    "import helper\n",
    "import random\n",
    "\n",
    "# Set batch size if not already set\n",
    "try:\n",
    "    if batch_size:\n",
    "        pass\n",
    "except NameError:\n",
    "    batch_size = 64\n",
    "\n",
    "save_model_path = './image_classification'\n",
    "n_samples = 4\n",
    "top_n_predictions = 3\n",
    "\n",
    "def test_model():\n",
    "    \"\"\"\n",
    "    Test the saved model against the test dataset\n",
    "    \"\"\"\n",
    "\n",
    "    test_features, test_labels = pickle.load(open('preprocess_test.p', mode='rb'))\n",
    "    loaded_graph = tf.Graph()\n",
    "\n",
    "    with tf.Session(graph=loaded_graph) as sess:\n",
    "        # Load model\n",
    "        loader = tf.train.import_meta_graph(save_model_path + '.meta')\n",
    "        loader.restore(sess, save_model_path)\n",
    "\n",
    "        # Get Tensors from loaded model\n",
    "        loaded_x = loaded_graph.get_tensor_by_name('x:0')\n",
    "        loaded_y = loaded_graph.get_tensor_by_name('y:0')\n",
    "        loaded_keep_prob = loaded_graph.get_tensor_by_name('keep_prob:0')\n",
    "        loaded_logits = loaded_graph.get_tensor_by_name('logits:0')\n",
    "        loaded_acc = loaded_graph.get_tensor_by_name('accuracy:0')\n",
    "        \n",
    "        # Get accuracy in batches for memory limitations\n",
    "        test_batch_acc_total = 0\n",
    "        test_batch_count = 0\n",
    "        \n",
    "        for test_feature_batch, test_label_batch in helper.batch_features_labels(test_features, test_labels, batch_size):\n",
    "            test_batch_acc_total += sess.run(\n",
    "                loaded_acc,\n",
    "                feed_dict={loaded_x: test_feature_batch, loaded_y: test_label_batch, loaded_keep_prob: 1.0})\n",
    "            test_batch_count += 1\n",
    "\n",
    "        print('Testing Accuracy: {}\\n'.format(test_batch_acc_total/test_batch_count))\n",
    "\n",
    "        # Print Random Samples\n",
    "        random_test_features, random_test_labels = tuple(zip(*random.sample(list(zip(test_features, test_labels)), n_samples)))\n",
    "        random_test_predictions = sess.run(\n",
    "            tf.nn.top_k(tf.nn.softmax(loaded_logits), top_n_predictions),\n",
    "            feed_dict={loaded_x: random_test_features, loaded_y: random_test_labels, loaded_keep_prob: 1.0})\n",
    "        helper.display_image_predictions(random_test_features, random_test_labels, random_test_predictions)\n",
    "\n",
    "\n",
    "test_model()"
   ]
  },
  {
   "cell_type": "markdown",
   "metadata": {
    "deletable": true,
    "editable": true
   },
   "source": [
    "## Why 50-80% Accuracy?\n",
    "You might be wondering why you can't get an accuracy any higher. First things first, 50% isn't bad for a simple CNN.  Pure guessing would get you 10% accuracy. However, you might notice people are getting scores [well above 80%](http://rodrigob.github.io/are_we_there_yet/build/classification_datasets_results.html#43494641522d3130).  That's because we haven't taught you all there is to know about neural networks. We still need to cover a few more techniques.\n",
    "## Submitting This Project\n",
    "When submitting this project, make sure to run all the cells before saving the notebook.  Save the notebook file as \"dlnd_image_classification.ipynb\" and save it as a HTML file under \"File\" -> \"Download as\".  Include the \"helper.py\" and \"problem_unittests.py\" files in your submission."
   ]
  }
 ],
 "metadata": {
  "kernelspec": {
   "display_name": "Python 3",
   "language": "python",
   "name": "python3"
  },
  "language_info": {
   "codemirror_mode": {
    "name": "ipython",
    "version": 3
   },
   "file_extension": ".py",
   "mimetype": "text/x-python",
   "name": "python",
   "nbconvert_exporter": "python",
   "pygments_lexer": "ipython3",
<<<<<<< HEAD
   "version": "3.6.1"
=======
   "version": "3.5.2"
  },
  "widgets": {
   "state": {},
   "version": "1.1.2"
>>>>>>> 26b0fa917d59225de640b1dd0b1720f74e2830b9
  }
 },
 "nbformat": 4,
 "nbformat_minor": 1
}
